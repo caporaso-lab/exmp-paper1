{
 "cells": [
  {
   "cell_type": "code",
   "execution_count": 1,
   "metadata": {},
   "outputs": [],
   "source": [
    "import qiime2\n",
    "import exmp\n",
    "from pathlib import Path\n",
    "# replace os.path.join calls with Path functionality\n",
    "import os.path\n",
    "import pandas as pd\n",
    "\n",
    "from qiime2.plugins.diversity.actions import filter_distance_matrix, pcoa as pcoa_action\n",
    "from qiime2.plugins.longitudinal.actions import first_distances, first_differences"
   ]
  },
  {
   "cell_type": "code",
   "execution_count": 2,
   "metadata": {},
   "outputs": [],
   "source": [
    "time_column = 'week' # week doesn't seem to be working right now\n",
    "project = 'exmp1'\n",
    "\n",
    "if time_column == 'period':\n",
    "    data_dir = exmp.cm_grouped_by_period_path\n",
    "    sample_metadata = exmp.load_sample_metadata_grouped_by_period()\n",
    "    # need to assess how these values will be used\n",
    "    baseline_time_value = 1\n",
    "    reference_time_value = 1\n",
    "elif time_column == 'week':\n",
    "    data_dir = exmp.cm_path\n",
    "    sample_metadata = exmp.load_sample_metadata()\n",
    "    # need to assess how these values will be used\n",
    "    baseline_time_value = 1\n",
    "    reference_time_value = 2\n",
    "else:\n",
    "    raise ValueError(\"Invalid value for time_column.\")\n",
    "\n",
    "output_dir = os.path.join(data_dir, 'longitudinal-boxplots')\n",
    "Path(output_dir).mkdir(parents=True, exist_ok=True)"
   ]
  },
  {
   "cell_type": "code",
   "execution_count": 3,
   "metadata": {},
   "outputs": [],
   "source": [
    "uu = (\"unweighted UniFrac\", os.path.join(data_dir, \"unweighted_unifrac_distance_matrix.qza\"))\n",
    "wu = (\"weighted UniFrac\", os.path.join(data_dir, \"weighted_unifrac_distance_matrix.qza\"))\n",
    "bc = (\"Bray-Curtis\", os.path.join(data_dir, \"bray_curtis_distance_matrix.qza\"))\n",
    "bj = (\"Jaccard\", os.path.join(data_dir, \"jaccard_distance_matrix.qza\"))\n",
    "faithpd = (\"Faith PD\", os.path.join(data_dir, \"faith_pd_vector.qza\"))\n",
    "evenness = (\"Evenness\", os.path.join(exmp.cm_grouped_by_period_path, \"evenness_vector.qza\"))\n",
    "shannon = (\"Shannon\", os.path.join(data_dir, \"shannon_vector.qza\"))"
   ]
  },
  {
   "cell_type": "code",
   "execution_count": 4,
   "metadata": {},
   "outputs": [],
   "source": [
    "where = \"[project]='%s' and [exclude]='no'\" % project\n",
    "ids_to_keep = sample_metadata.get_ids(where=where)\n",
    "sample_metadata = sample_metadata.filter_ids(ids_to_keep=ids_to_keep)"
   ]
  },
  {
   "cell_type": "code",
   "execution_count": 5,
   "metadata": {},
   "outputs": [
    {
     "name": "stderr",
     "output_type": "stream",
     "text": [
      "/Users/gregcaporaso/miniconda3/envs/qiime2-2019.10/lib/python3.6/site-packages/skbio/stats/ordination/_principal_coordinate_analysis.py:152: RuntimeWarning: The result contains negative eigenvalues. Please compare their magnitude with the magnitude of some of the largest positive eigenvalues. If the negative ones are smaller, it's probably safe to ignore them, but if they are large in magnitude, the results won't be useful. See the Notes section for more details. The smallest eigenvalue is -0.06436656169994662 and the largest is 6.845413266336387.\n",
      "  RuntimeWarning\n",
      "/Users/gregcaporaso/miniconda3/envs/qiime2-2019.10/lib/python3.6/site-packages/skbio/stats/ordination/_principal_coordinate_analysis.py:152: RuntimeWarning: The result contains negative eigenvalues. Please compare their magnitude with the magnitude of some of the largest positive eigenvalues. If the negative ones are smaller, it's probably safe to ignore them, but if they are large in magnitude, the results won't be useful. See the Notes section for more details. The smallest eigenvalue is -1.1750038009668773 and the largest is 26.341119575409003.\n",
      "  RuntimeWarning\n",
      "/Users/gregcaporaso/miniconda3/envs/qiime2-2019.10/lib/python3.6/site-packages/skbio/stats/ordination/_principal_coordinate_analysis.py:152: RuntimeWarning: The result contains negative eigenvalues. Please compare their magnitude with the magnitude of some of the largest positive eigenvalues. If the negative ones are smaller, it's probably safe to ignore them, but if they are large in magnitude, the results won't be useful. See the Notes section for more details. The smallest eigenvalue is -0.7004967326599494 and the largest is 18.433841925673857.\n",
      "  RuntimeWarning\n",
      "/Users/gregcaporaso/miniconda3/envs/qiime2-2019.10/lib/python3.6/site-packages/skbio/stats/ordination/_principal_coordinate_analysis.py:152: RuntimeWarning: The result contains negative eigenvalues. Please compare their magnitude with the magnitude of some of the largest positive eigenvalues. If the negative ones are smaller, it's probably safe to ignore them, but if they are large in magnitude, the results won't be useful. See the Notes section for more details. The smallest eigenvalue is -0.05124937523548717 and the largest is 7.3069786106474295.\n",
      "  RuntimeWarning\n"
     ]
    },
    {
     "ename": "ValueError",
     "evalue": "Cannot merge because there are no IDs shared across metadata objects.",
     "output_type": "error",
     "traceback": [
      "\u001b[0;31m---------------------------------------------------------------------------\u001b[0m",
      "\u001b[0;31mValueError\u001b[0m                                Traceback (most recent call last)",
      "\u001b[0;32m<ipython-input-5-b7e9d679d6fd>\u001b[0m in \u001b[0;36m<module>\u001b[0;34m\u001b[0m\n\u001b[1;32m     31\u001b[0m     \u001b[0malpha_vector\u001b[0m \u001b[0;34m=\u001b[0m \u001b[0mqiime2\u001b[0m\u001b[0;34m.\u001b[0m\u001b[0mArtifact\u001b[0m\u001b[0;34m.\u001b[0m\u001b[0mload\u001b[0m\u001b[0;34m(\u001b[0m\u001b[0malpha_vector_fp\u001b[0m\u001b[0;34m)\u001b[0m\u001b[0;34m\u001b[0m\u001b[0;34m\u001b[0m\u001b[0m\n\u001b[1;32m     32\u001b[0m     \u001b[0malpha_vector_name\u001b[0m \u001b[0;34m=\u001b[0m \u001b[0malpha_vector\u001b[0m\u001b[0;34m.\u001b[0m\u001b[0mview\u001b[0m\u001b[0;34m(\u001b[0m\u001b[0mpd\u001b[0m\u001b[0;34m.\u001b[0m\u001b[0mSeries\u001b[0m\u001b[0;34m)\u001b[0m\u001b[0;34m.\u001b[0m\u001b[0mname\u001b[0m\u001b[0;34m\u001b[0m\u001b[0;34m\u001b[0m\u001b[0m\n\u001b[0;32m---> 33\u001b[0;31m     \u001b[0msample_metadata\u001b[0m \u001b[0;34m=\u001b[0m \u001b[0msample_metadata\u001b[0m\u001b[0;34m.\u001b[0m\u001b[0mmerge\u001b[0m\u001b[0;34m(\u001b[0m\u001b[0malpha_vector\u001b[0m\u001b[0;34m.\u001b[0m\u001b[0mview\u001b[0m\u001b[0;34m(\u001b[0m\u001b[0mqiime2\u001b[0m\u001b[0;34m.\u001b[0m\u001b[0mMetadata\u001b[0m\u001b[0;34m)\u001b[0m\u001b[0;34m)\u001b[0m\u001b[0;34m\u001b[0m\u001b[0;34m\u001b[0m\u001b[0m\n\u001b[0m\u001b[1;32m     34\u001b[0m     diffs_to_baselines = first_differences(metadata=sample_metadata, \n\u001b[1;32m     35\u001b[0m                                            \u001b[0mstate_column\u001b[0m\u001b[0;34m=\u001b[0m\u001b[0mtime_column\u001b[0m\u001b[0;34m,\u001b[0m \u001b[0mmetric\u001b[0m\u001b[0;34m=\u001b[0m\u001b[0malpha_vector_name\u001b[0m\u001b[0;34m,\u001b[0m\u001b[0;34m\u001b[0m\u001b[0;34m\u001b[0m\u001b[0m\n",
      "\u001b[0;32m~/miniconda3/envs/qiime2-2019.10/lib/python3.6/site-packages/qiime2/metadata/metadata.py\u001b[0m in \u001b[0;36mmerge\u001b[0;34m(self, *others)\u001b[0m\n\u001b[1;32m    692\u001b[0m         \u001b[0;32mif\u001b[0m \u001b[0mmerged_df\u001b[0m\u001b[0;34m.\u001b[0m\u001b[0mindex\u001b[0m\u001b[0;34m.\u001b[0m\u001b[0mempty\u001b[0m\u001b[0;34m:\u001b[0m\u001b[0;34m\u001b[0m\u001b[0;34m\u001b[0m\u001b[0m\n\u001b[1;32m    693\u001b[0m             raise ValueError(\n\u001b[0;32m--> 694\u001b[0;31m                 \u001b[0;34m\"Cannot merge because there are no IDs shared across metadata \"\u001b[0m\u001b[0;34m\u001b[0m\u001b[0;34m\u001b[0m\u001b[0m\n\u001b[0m\u001b[1;32m    695\u001b[0m                 \"objects.\")\n\u001b[1;32m    696\u001b[0m \u001b[0;34m\u001b[0m\u001b[0m\n",
      "\u001b[0;31mValueError\u001b[0m: Cannot merge because there are no IDs shared across metadata objects."
     ]
    }
   ],
   "source": [
    "metadata_to_merge = []\n",
    "distance_columns = []\n",
    "pcoa_columns = []\n",
    "alpha_columns = []\n",
    "\n",
    "for metric, dm_fp in [uu, wu, bc, bj]:\n",
    "    dm = qiime2.Artifact.load(dm_fp)\n",
    "    dm = filter_distance_matrix(dm, metadata=sample_metadata).filtered_distance_matrix\n",
    "    # add distances to baseline to sample metadata\n",
    "    dists_to_baselines = first_distances(distance_matrix=dm, metadata=sample_metadata, state_column=time_column, \n",
    "                                         individual_id_column='subject-id', baseline=baseline_time_value, \n",
    "                                         replicate_handling='random').first_distances\n",
    "    dists_to_baselines = dists_to_baselines.view(qiime2.Metadata).get_column('Distance').to_dataframe()\n",
    "    column_name = '%s distance to %s %d' % (metric, time_column, baseline_time_value)\n",
    "    dists_to_baselines = dists_to_baselines.rename(columns = {'Distance' : column_name})\n",
    "    metadata_to_merge.append(qiime2.Metadata(dists_to_baselines))\n",
    "    distance_columns.append(column_name)\n",
    "    \n",
    "    # add first three PCoA axes to sample metadata\n",
    "    pcoa = pcoa_action(dm).pcoa\n",
    "    pcoa = pcoa.view(qiime2.Metadata).to_dataframe()[['Axis 1', 'Axis 2', 'Axis 3']]\n",
    "    column_names = {'Axis 1' : '%s PCoA 1' % metric, \n",
    "                    'Axis 2' : '%s PCoA 2' % metric,\n",
    "                    'Axis 3' : '%s PCoA 3' % metric}\n",
    "    pcoa = pcoa.rename(columns = column_names)\n",
    "\n",
    "    metadata_to_merge.append(qiime2.Metadata(pcoa))\n",
    "    pcoa_columns.extend(column_names.values())\n",
    "\n",
    "for metric, alpha_vector_fp in [faithpd, evenness, shannon]:\n",
    "    alpha_vector = qiime2.Artifact.load(alpha_vector_fp)\n",
    "    alpha_vector_name = alpha_vector.view(pd.Series).name\n",
    "    sample_metadata = sample_metadata.merge(alpha_vector.view(qiime2.Metadata))\n",
    "    diffs_to_baselines = first_differences(metadata=sample_metadata, \n",
    "                                           state_column=time_column, metric=alpha_vector_name,                  \n",
    "                                           individual_id_column='subject-id', baseline=baseline_time_value, \n",
    "                                           replicate_handling='random').first_differences\n",
    "    diffs_to_baselines = diffs_to_baselines.view(qiime2.Metadata).get_column('Difference').to_dataframe()\n",
    "    column_name = '%s difference from %s %d' % (metric, time_column, baseline_time_value)\n",
    "    diffs_to_baselines = diffs_to_baselines.rename(columns = {'Difference' : column_name})\n",
    "    metadata_to_merge.append(qiime2.Metadata(diffs_to_baselines))\n",
    "    alpha_columns.append(column_name)\n",
    "    \n",
    "for e in metadata_to_merge:\n",
    "    sample_metadata = sample_metadata.merge(e)\n",
    "data = sample_metadata.to_dataframe()"
   ]
  },
  {
   "cell_type": "code",
   "execution_count": null,
   "metadata": {},
   "outputs": [],
   "source": [
    "data"
   ]
  },
  {
   "cell_type": "code",
   "execution_count": null,
   "metadata": {},
   "outputs": [],
   "source": [
    "for e in distance_columns + alpha_columns + pcoa_columns:\n",
    "    output_base_filename = '%s-%s' % (project, e.replace(' ', '-'))\n",
    "    output_figure_filepath = os.path.join(output_dir, '%s.pdf' % output_base_filename)\n",
    "    output_table_filepath = os.path.join(output_dir, '%s.csv' % output_base_filename)\n",
    "    exmp.plot_week_data_with_stats(data, metric=e, time_column=time_column, \n",
    "                                   reference_time=reference_time_value, \n",
    "                                   output_figure_filepath=output_figure_filepath, \n",
    "                                   output_table_filepath=output_table_filepath)"
   ]
  },
  {
   "cell_type": "code",
   "execution_count": null,
   "metadata": {},
   "outputs": [],
   "source": []
  }
 ],
 "metadata": {
  "kernelspec": {
   "display_name": "Python 3",
   "language": "python",
   "name": "python3"
  },
  "language_info": {
   "codemirror_mode": {
    "name": "ipython",
    "version": 3
   },
   "file_extension": ".py",
   "mimetype": "text/x-python",
   "name": "python",
   "nbconvert_exporter": "python",
   "pygments_lexer": "ipython3",
   "version": "3.6.7"
  }
 },
 "nbformat": 4,
 "nbformat_minor": 1
}
