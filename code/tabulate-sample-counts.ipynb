{
 "cells": [
  {
   "cell_type": "code",
   "execution_count": null,
   "metadata": {},
   "outputs": [],
   "source": [
    "import qiime2\n",
    "import pandas as pd\n",
    "import os.path\n",
    "import exmp\n",
    "\n",
    "project = 'exmp1'\n",
    "output_filepath = os.path.join(exmp.base_dir, 'data', '%s-samples-per-subject-by-week.csv' % project)"
   ]
  },
  {
   "cell_type": "code",
   "execution_count": null,
   "metadata": {},
   "outputs": [],
   "source": [
    "sample_md = exmp.load_sample_metadata()\n",
    "\n",
    "where = \"[project]='%s' and [exclude]='no'\" % project\n",
    "ids_to_keep = sample_md.get_ids(where=where)\n",
    "sample_md = sample_md.filter_ids(ids_to_keep=ids_to_keep)\n",
    "df = sample_md.to_dataframe()\n",
    "df['week'] = pd.to_numeric(df['week'], errors='coerce')\n",
    "weeks = df['week'].unique()\n",
    "subject_ids = df['subject-id'].unique()"
   ]
  },
  {
   "cell_type": "code",
   "execution_count": null,
   "metadata": {},
   "outputs": [],
   "source": [
    "data = {}\n",
    "for subject_id in subject_ids:\n",
    "    d = df[df['subject-id'] == subject_id]\n",
    "    row = {}\n",
    "    for week in weeks:\n",
    "        e = d[d['week'] == week]\n",
    "        row[week] = len(e)\n",
    "    data[subject_id] = row\n",
    "data = pd.DataFrame(data).T\n",
    "data.index.name = 'subject-id'\n",
    "\n",
    "week_summary = df.groupby(['subject-id']).agg({\n",
    "        \"week\" : [\"min\", \"max\"]})\n",
    "week_summary.columns = [\" \".join(x) for x in week_summary.columns.ravel()]\n",
    "week_summary['week count'] = data.astype(bool).sum(axis=1)\n",
    "\n",
    "\n",
    "result = pd.merge(data, week_summary,\n",
    "                  left_index=True, right_index=True).sort_values(by=\"week count\", ascending=False)\n",
    "result.to_csv(output_filepath)"
   ]
  },
  {
   "cell_type": "code",
   "execution_count": null,
   "metadata": {},
   "outputs": [],
   "source": [
    "result"
   ]
  },
  {
   "cell_type": "code",
   "execution_count": null,
   "metadata": {},
   "outputs": [],
   "source": []
  }
 ],
 "metadata": {
  "kernelspec": {
   "display_name": "Python 3",
   "language": "python",
   "name": "python3"
  },
  "language_info": {
   "codemirror_mode": {
    "name": "ipython",
    "version": 3
   },
   "file_extension": ".py",
   "mimetype": "text/x-python",
   "name": "python",
   "nbconvert_exporter": "python",
   "pygments_lexer": "ipython3",
   "version": "3.6.7"
  }
 },
 "nbformat": 4,
 "nbformat_minor": 2
}
