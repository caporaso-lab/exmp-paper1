{
 "cells": [
  {
   "cell_type": "code",
   "execution_count": 1,
   "metadata": {},
   "outputs": [],
   "source": [
    "import os\n",
    "import qiime2\n",
    "import numpy as np\n",
    "\n",
    "from qiime2.plugins.feature_table.methods import group"
   ]
  },
  {
   "cell_type": "code",
   "execution_count": 2,
   "metadata": {},
   "outputs": [],
   "source": [
    "base_dir = \"/Users/gregcaporaso/Dropbox/shared-analysis-results/2019.09-exmp/combined/\"\n",
    "sample_md_fp = os.path.join(base_dir, \"sample-metadata\", \"sample-metadata.tsv\")\n",
    "data_dir = os.path.join(base_dir, \"dada2-paired-long/\")\n",
    "table_fp = os.path.join(data_dir, \"table-sepp-no-excludes.qza\")"
   ]
  },
  {
   "cell_type": "code",
   "execution_count": 3,
   "metadata": {},
   "outputs": [],
   "source": [
    "sample_md = qiime2.Metadata.load(sample_md_fp).to_dataframe()\n",
    "table = qiime2.Artifact.load(table_fp)"
   ]
  },
  {
   "cell_type": "code",
   "execution_count": 4,
   "metadata": {},
   "outputs": [],
   "source": [
    "def week_to_period(week):\n",
    "    week = float(week)\n",
    "    if np.isnan(week): \n",
    "        return week\n",
    "    elif week < 4:\n",
    "        return '1'\n",
    "    elif week < 7:\n",
    "        return '2'\n",
    "    elif week < 9: \n",
    "        return '3'\n",
    "    elif week < 12:\n",
    "        return '4'\n",
    "    else:\n",
    "        return '5'"
   ]
  },
  {
   "cell_type": "code",
   "execution_count": 5,
   "metadata": {},
   "outputs": [
    {
     "name": "stderr",
     "output_type": "stream",
     "text": [
      "/Users/gregcaporaso/miniconda3/envs/qiime2-2019.10/lib/python3.6/site-packages/ipykernel_launcher.py:3: SettingWithCopyWarning: \n",
      "A value is trying to be set on a copy of a slice from a DataFrame.\n",
      "Try using .loc[row_indexer,col_indexer] = value instead\n",
      "\n",
      "See the caveats in the documentation: http://pandas.pydata.org/pandas-docs/stable/user_guide/indexing.html#returning-a-view-versus-a-copy\n",
      "  This is separate from the ipykernel package so we can avoid doing imports until\n"
     ]
    }
   ],
   "source": [
    "sample_md['period'] = list(map(week_to_period, sample_md['week']))\n",
    "grouped_sample_metadata = sample_md[['period', 'subject-id', 'project', 'activity', 'exclude']]\n",
    "grouped_sample_metadata['subject-id-period'] = ['-'.join(map(str,e)) for e in zip(grouped_sample_metadata['subject-id'], grouped_sample_metadata['period'])]"
   ]
  },
  {
   "cell_type": "code",
   "execution_count": 6,
   "metadata": {},
   "outputs": [],
   "source": [
    "grouped_table = group(table, \n",
    "                      axis='sample', \n",
    "                      metadata=qiime2.CategoricalMetadataColumn(grouped_sample_metadata['subject-id-period']), \n",
    "                      mode='sum').grouped_table"
   ]
  },
  {
   "cell_type": "code",
   "execution_count": 7,
   "metadata": {},
   "outputs": [],
   "source": [
    "grouped_sample_metadata = grouped_sample_metadata.drop_duplicates(subset='subject-id-period')\n",
    "grouped_sample_metadata = grouped_sample_metadata.set_index('subject-id-period')\n",
    "grouped_sample_metadata.index.name = 'sample-id'"
   ]
  },
  {
   "cell_type": "code",
   "execution_count": 8,
   "metadata": {},
   "outputs": [],
   "source": [
    "output_table_fp = os.path.join(data_dir, \"table-sepp-no-excludes-grouped-by-period.qza\")\n",
    "grouped_table.save(output_table_fp) \n",
    "\n",
    "output_metadata_fp = os.path.join(data_dir, \"sample-metadata-grouped-by-period.tsv\")\n",
    "qiime2.Metadata(grouped_sample_metadata).save(output_metadata_fp)"
   ]
  },
  {
   "cell_type": "code",
   "execution_count": null,
   "metadata": {},
   "outputs": [],
   "source": []
  }
 ],
 "metadata": {
  "kernelspec": {
   "display_name": "Python 3",
   "language": "python",
   "name": "python3"
  },
  "language_info": {
   "codemirror_mode": {
    "name": "ipython",
    "version": 3
   },
   "file_extension": ".py",
   "mimetype": "text/x-python",
   "name": "python",
   "nbconvert_exporter": "python",
   "pygments_lexer": "ipython3",
   "version": "3.6.7"
  }
 },
 "nbformat": 4,
 "nbformat_minor": 2
}
