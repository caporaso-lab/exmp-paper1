{
 "cells": [
  {
   "cell_type": "code",
   "execution_count": null,
   "metadata": {},
   "outputs": [],
   "source": [
    "import exmp\n",
    "import numpy as np\n",
    "import qiime2\n",
    "import os.path\n",
    "\n",
    "from qiime2.plugins.feature_table.actions import group, filter_features\n",
    "from qiime2.plugins.diversity.actions import core_metrics_phylogenetic"
   ]
  },
  {
   "cell_type": "code",
   "execution_count": null,
   "metadata": {},
   "outputs": [],
   "source": [
    "grouping_metadata = exmp.load_sample_metadata_grouping()\n",
    "table = exmp.load_table()"
   ]
  },
  {
   "cell_type": "code",
   "execution_count": null,
   "metadata": {},
   "outputs": [],
   "source": [
    "grouped_table = group(table, \n",
    "                      axis='sample', \n",
    "                      metadata=grouping_metadata.get_column('subject-id-period'), \n",
    "                      mode='median-ceiling').grouped_table"
   ]
  },
  {
   "cell_type": "code",
   "execution_count": null,
   "metadata": {},
   "outputs": [],
   "source": [
    "grouped_table.save(\n",
    "    os.path.join(exmp.data_dir, \"table-grouped-by-period.qza\")) \n"
   ]
  },
  {
   "cell_type": "code",
   "execution_count": null,
   "metadata": {},
   "outputs": [],
   "source": [
    "sample_metadata_grouped_by_period = exmp.load_sample_metadata_grouped_by_period()\n",
    "sample_metadata_grouped_by_period.save(exmp.sample_md_grouped_by_period_fp)"
   ]
  },
  {
   "cell_type": "code",
   "execution_count": null,
   "metadata": {},
   "outputs": [],
   "source": [
    "results = core_metrics_phylogenetic(grouped_table, \n",
    "                                    metadata=sample_metadata_grouped_by_period,\n",
    "                                    phylogeny=exmp.load_phylogeny(),\n",
    "                                    sampling_depth=5000)"
   ]
  },
  {
   "cell_type": "code",
   "execution_count": null,
   "metadata": {},
   "outputs": [],
   "source": [
    "for name, artifact in list(zip(results._fields, results)):\n",
    "    artifact.save(os.path.join(exmp.cm_grouped_by_period_path, name))"
   ]
  },
  {
   "cell_type": "code",
   "execution_count": null,
   "metadata": {},
   "outputs": [],
   "source": []
  }
 ],
 "metadata": {
  "kernelspec": {
   "display_name": "Python 3",
   "language": "python",
   "name": "python3"
  },
  "language_info": {
   "codemirror_mode": {
    "name": "ipython",
    "version": 3
   },
   "file_extension": ".py",
   "mimetype": "text/x-python",
   "name": "python",
   "nbconvert_exporter": "python",
   "pygments_lexer": "ipython3",
   "version": "3.6.7"
  }
 },
 "nbformat": 4,
 "nbformat_minor": 2
}
