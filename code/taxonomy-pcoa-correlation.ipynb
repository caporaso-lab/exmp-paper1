{
 "cells": [
  {
   "cell_type": "code",
   "execution_count": 1,
   "metadata": {},
   "outputs": [],
   "source": [
    "import exmp\n",
    "import qiime2\n",
    "import tempfile\n",
    "import os.path\n",
    "import pandas as pd\n",
    "from qiime2.plugins.feature_table.methods import filter_samples\n",
    "from qiime2.plugins.taxa.methods import collapse\n",
    "\n",
    "taxonomy = exmp.load_taxonomy()\n",
    "sample_metadata = exmp.load_sample_metadata()\n",
    "data_dir = exmp.cm_path\n",
    "\n",
    "rarefied_table = qiime2.Artifact.load(os.path.join(data_dir, \"rarefied_table.qza\"))\n",
    "uu_dm = qiime2.Artifact.load(os.path.join(data_dir, \"unweighted_unifrac_distance_matrix.qza\"))\n",
    "wu_dm = qiime2.Artifact.load(os.path.join(data_dir, \"weighted_unifrac_distance_matrix.qza\"))\n",
    "faith_pd = qiime2.Artifact.load(os.path.join(data_dir, \"faith_pd_vector.qza\"))\n",
    "shannon = qiime2.Artifact.load(os.path.join(data_dir, \"shannon_vector.qza\"))\n",
    "evenness = qiime2.Artifact.load(os.path.join(data_dir, \"evenness_vector.qza\"))"
   ]
  },
  {
   "cell_type": "code",
   "execution_count": 2,
   "metadata": {},
   "outputs": [
    {
     "name": "stderr",
     "output_type": "stream",
     "text": [
      "/Users/gregcaporaso/miniconda3/envs/qiime2-2019.10/lib/python3.6/site-packages/skbio/stats/ordination/_principal_coordinate_analysis.py:152: RuntimeWarning: The result contains negative eigenvalues. Please compare their magnitude with the magnitude of some of the largest positive eigenvalues. If the negative ones are smaller, it's probably safe to ignore them, but if they are large in magnitude, the results won't be useful. See the Notes section for more details. The smallest eigenvalue is -0.08203129307423626 and the largest is 2.6177950743186975.\n",
      "  RuntimeWarning\n",
      "/Users/gregcaporaso/miniconda3/envs/qiime2-2019.10/lib/python3.6/site-packages/numpy/core/fromnumeric.py:2495: FutureWarning: Method .ptp is deprecated and will be removed in a future version. Use numpy.ptp instead.\n",
      "  return ptp(axis=axis, out=out, **kwargs)\n"
     ]
    }
   ],
   "source": [
    "with tempfile.TemporaryDirectory() as output_dir:\n",
    "    _, _, _, sample_metadata = exmp.ols_and_anova('RER_change', 'exmp1', '1.0', \n",
    "                                                  output_dir, 'week',\n",
    "                                                  sample_metadata, uu_dm, wu_dm, \n",
    "                                                  faith_pd, shannon, evenness)"
   ]
  },
  {
   "cell_type": "code",
   "execution_count": 3,
   "metadata": {},
   "outputs": [],
   "source": [
    "rarefied_table = filter_samples(table=rarefied_table, metadata=sample_metadata).filtered_table\n",
    "taxa_table = collapse(table=rarefied_table, taxonomy=taxonomy, level=6).collapsed_table.view(pd.DataFrame)"
   ]
  },
  {
   "cell_type": "code",
   "execution_count": 4,
   "metadata": {},
   "outputs": [],
   "source": [
    "sample_metadata = sample_metadata.to_dataframe()"
   ]
  },
  {
   "cell_type": "code",
   "execution_count": 14,
   "metadata": {},
   "outputs": [],
   "source": [
    "sorted_wu_pc3_correlations = pd.DataFrame(taxa_table.corrwith(sample_metadata['Weighted_UniFrac_PC3'], method='spearman').sort_values(), columns=['Spearman rho'])\n",
    "sorted_wu_pc3_correlations['25th percentile rarefied count'] = taxa_table[sorted_wu_pc3_correlations.index].quantile(0.25)\n",
    "sorted_wu_pc3_correlations['Median rarefied count'] = taxa_table[sorted_wu_pc3_correlations.index].quantile(0.50)\n",
    "sorted_wu_pc3_correlations['75th percentile rarefied count'] = taxa_table[sorted_wu_pc3_correlations.index].quantile(0.75)\n",
    "sorted_uu_pc3_correlations = pd.DataFrame(taxa_table.corrwith(sample_metadata['Unweighted_UniFrac_PC3'], method='spearman').sort_values(), columns=['Spearman rho'])\n",
    "sorted_uu_pc3_correlations['25th percentile rarefied count'] = taxa_table[sorted_uu_pc3_correlations.index].quantile(0.25)\n",
    "sorted_uu_pc3_correlations['Median rarefied count'] = taxa_table[sorted_uu_pc3_correlations.index].quantile(0.50)\n",
    "sorted_uu_pc3_correlations['75th percentile rarefied count'] = taxa_table[sorted_uu_pc3_correlations.index].quantile(0.75)"
   ]
  },
  {
   "cell_type": "markdown",
   "metadata": {},
   "source": [
    "The data are most easily interpreted if the ordination axes are positively correlated with the RER change. Since the direction of the PCs are arbitrary, I generally just run this a few times till I get a positive correlation."
   ]
  },
  {
   "cell_type": "code",
   "execution_count": 15,
   "metadata": {},
   "outputs": [
    {
     "data": {
      "text/plain": [
       "0.21917073562928502"
      ]
     },
     "execution_count": 15,
     "metadata": {},
     "output_type": "execute_result"
    }
   ],
   "source": [
    "sample_metadata['Weighted_UniFrac_PC3'].corr(sample_metadata['RER_change'])"
   ]
  },
  {
   "cell_type": "code",
   "execution_count": 16,
   "metadata": {},
   "outputs": [
    {
     "data": {
      "text/plain": [
       "0.23468802515225493"
      ]
     },
     "execution_count": 16,
     "metadata": {},
     "output_type": "execute_result"
    }
   ],
   "source": [
    "sample_metadata['Unweighted_UniFrac_PC3'].corr(sample_metadata['RER_change'])"
   ]
  },
  {
   "cell_type": "code",
   "execution_count": 17,
   "metadata": {},
   "outputs": [
    {
     "data": {
      "text/plain": [
       "0.31676905444457676"
      ]
     },
     "execution_count": 17,
     "metadata": {},
     "output_type": "execute_result"
    }
   ],
   "source": [
    "sample_metadata['shannon'].corr(sample_metadata['RER_change'])"
   ]
  },
  {
   "cell_type": "code",
   "execution_count": 18,
   "metadata": {},
   "outputs": [
    {
     "data": {
      "text/plain": [
       "0.2516514998264882"
      ]
     },
     "execution_count": 18,
     "metadata": {},
     "output_type": "execute_result"
    }
   ],
   "source": [
    "sample_metadata['pielou_e'].corr(sample_metadata['RER_change'])"
   ]
  },
  {
   "cell_type": "code",
   "execution_count": 19,
   "metadata": {},
   "outputs": [],
   "source": [
    "output_dir = os.path.join(exmp.cm_path, 'ols-and-anova', 'exmp1-RER_change-week1.0')\n",
    "sorted_wu_pc3_correlations.to_csv(open(os.path.join(output_dir, 'wu-pcoa3-genus-correlations.csv'), 'w'))\n",
    "sorted_uu_pc3_correlations.to_csv(open(os.path.join(output_dir, 'uu-pcoa3-genus-correlations.csv'), 'w'))"
   ]
  },
  {
   "cell_type": "code",
   "execution_count": null,
   "metadata": {},
   "outputs": [],
   "source": []
  }
 ],
 "metadata": {
  "kernelspec": {
   "display_name": "Python 3",
   "language": "python",
   "name": "python3"
  },
  "language_info": {
   "codemirror_mode": {
    "name": "ipython",
    "version": 3
   },
   "file_extension": ".py",
   "mimetype": "text/x-python",
   "name": "python",
   "nbconvert_exporter": "python",
   "pygments_lexer": "ipython3",
   "version": "3.6.7"
  }
 },
 "nbformat": 4,
 "nbformat_minor": 2
}
