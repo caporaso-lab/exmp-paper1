{
 "cells": [
  {
   "cell_type": "code",
   "execution_count": 1,
   "metadata": {},
   "outputs": [],
   "source": [
    "import exmp\n",
    "import os.path\n",
    "import qiime2\n",
    "import pandas as pd\n",
    "import seaborn as sns\n",
    "import matplotlib.pyplot as plt\n",
    "import numpy as np\n",
    "\n",
    "from qiime2.plugins.diversity.actions import filter_distance_matrix\n",
    "from qiime2.plugins.longitudinal.actions import first_distances\n",
    "import scipy.stats\n",
    "\n",
    "from statsmodels.stats.multitest import multipletests"
   ]
  },
  {
   "cell_type": "code",
   "execution_count": 2,
   "metadata": {},
   "outputs": [],
   "source": [
    "\n",
    "def microbiome_performance_correlations(project, \n",
    "                                        time_column, \n",
    "                                        baseline_time_value,\n",
    "                                        performance_metrics,\n",
    "                                        week,\n",
    "                                        sample_metadata,\n",
    "                                        data_dir,\n",
    "                                        output_dir):\n",
    "\n",
    "    results = []\n",
    "    uu = (\"unweighted UniFrac\", os.path.join(data_dir, \"unweighted_unifrac_distance_matrix.qza\"))\n",
    "    wu = (\"weighted UniFrac\", os.path.join(data_dir, \"weighted_unifrac_distance_matrix.qza\"))\n",
    "    bc = (\"Bray-Curtis\", os.path.join(data_dir, \"bray_curtis_distance_matrix.qza\"))\n",
    "    bj = (\"Jaccard\", os.path.join(data_dir, \"jaccard_distance_matrix.qza\"))\n",
    "    \n",
    "    where = \"[project]='%s' and [exclude]='no'\" % project\n",
    "    ids_to_keep = sample_metadata.get_ids(where=where)\n",
    "    sample_metadata = sample_metadata.filter_ids(ids_to_keep=ids_to_keep)\n",
    "\n",
    "\n",
    "    metadata_to_merge = []\n",
    "    distance_columns = []\n",
    "\n",
    "    for metric, dm_fp in [uu, wu, bc, bj]:\n",
    "        dm = qiime2.Artifact.load(dm_fp)\n",
    "        dm = filter_distance_matrix(dm, metadata=sample_metadata).filtered_distance_matrix\n",
    "        # add distances to baseline to sample metadata\n",
    "        dists_to_baselines = first_distances(distance_matrix=dm, metadata=sample_metadata, state_column=time_column, \n",
    "                                             individual_id_column='subject-id', baseline=baseline_time_value, \n",
    "                                             replicate_handling='random').first_distances\n",
    "        dists_to_baselines = dists_to_baselines.view(qiime2.Metadata).get_column('Distance').to_dataframe()\n",
    "        column_name = '%s distance (%s %d to %s)' % (metric, time_column, baseline_time_value, week)\n",
    "        dists_to_baselines = dists_to_baselines.rename(columns = {'Distance' : column_name})\n",
    "\n",
    "        metadata_to_merge.append(qiime2.Metadata(dists_to_baselines))\n",
    "        distance_columns.append(column_name)\n",
    "\n",
    "    for e in metadata_to_merge:\n",
    "        sample_metadata = sample_metadata.merge(e)\n",
    "    data = sample_metadata.to_dataframe()\n",
    "\n",
    "    for distance_column in distance_columns:\n",
    "        for performance_metric in performance_metrics:\n",
    "            where = \"[%s]='%s'\" % (time_column, week)\n",
    "            ids_to_keep = sample_metadata.get_ids(where=where)\n",
    "            sample_metadata_subsample = sample_metadata.filter_ids(ids_to_keep=ids_to_keep).to_dataframe()\n",
    "            sample_metadata_subsample = sample_metadata_subsample[[distance_column, performance_metric]].dropna().astype(np.float)\n",
    "            rho, p = scipy.stats.spearmanr(sample_metadata_subsample[[distance_column, performance_metric]])\n",
    "            results.append((project, distance_column, performance_metric, rho, p, sample_metadata_subsample.shape[0]))\n",
    "            fig_fp = '%s/%s-%s-%s.pdf' % (output_dir, project, distance_column, performance_metric)\n",
    "            sns.scatterplot(sample_metadata_subsample[distance_column], \n",
    "                            sample_metadata_subsample[performance_metric]).get_figure().savefig(fig_fp)\n",
    "            plt.clf()\n",
    "    df = pd.DataFrame(results, columns=['project', 'distance', 'performance metric', 'Spearman rho', 'Spearman p-value', 'sample size'])\n",
    "    df['Spearman q-value'] = multipletests(df['Spearman p-value'])[1]\n",
    "    df.to_csv('%s/%s-%s.csv' % (output_dir, project, week))\n",
    "    return df"
   ]
  },
  {
   "cell_type": "code",
   "execution_count": 3,
   "metadata": {},
   "outputs": [],
   "source": [
    "output_dir = '../data/exmp1-and-exmp2/cm/microbiome-performance-correlations/'\n",
    "\n",
    "df_exmp1 = microbiome_performance_correlations(\n",
    "    'exmp1', 'week', 1.0, ['RER-change', 'VO2max-change'], \n",
    "    '5.0', exmp.load_sample_metadata(), exmp.cm_path, output_dir)\n",
    "df_exmp2 = microbiome_performance_correlations(\n",
    "    'exmp2', 'week', 1.0, ['bench-press-change', 'row-change', '3RM-squat-change'], \n",
    "    '5.0', exmp.load_sample_metadata(), exmp.cm_path, output_dir)\n",
    "df_exmp1 = microbiome_performance_correlations(\n",
    "    'exmp1', 'week', 1.0, ['RER-change', 'VO2max-change'], \n",
    "    '6.0', exmp.load_sample_metadata(), exmp.cm_path, output_dir)\n",
    "df_exmp2 = microbiome_performance_correlations(\n",
    "    'exmp2', 'week', 1.0, ['bench-press-change', 'row-change', '3RM-squat-change'], \n",
    "    '6.0', exmp.load_sample_metadata(), exmp.cm_path, output_dir)"
   ]
  },
  {
   "cell_type": "code",
   "execution_count": null,
   "metadata": {},
   "outputs": [],
   "source": []
  },
  {
   "cell_type": "code",
   "execution_count": null,
   "metadata": {},
   "outputs": [],
   "source": []
  }
 ],
 "metadata": {
  "kernelspec": {
   "display_name": "Python 3",
   "language": "python",
   "name": "python3"
  },
  "language_info": {
   "codemirror_mode": {
    "name": "ipython",
    "version": 3
   },
   "file_extension": ".py",
   "mimetype": "text/x-python",
   "name": "python",
   "nbconvert_exporter": "python",
   "pygments_lexer": "ipython3",
   "version": "3.6.7"
  }
 },
 "nbformat": 4,
 "nbformat_minor": 2
}
