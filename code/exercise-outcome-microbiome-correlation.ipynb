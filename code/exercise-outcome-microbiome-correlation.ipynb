{
 "cells": [
  {
   "cell_type": "code",
   "execution_count": 1,
   "metadata": {},
   "outputs": [],
   "source": [
    "import exmp\n",
    "from pathlib import Path\n",
    "# replace os.path.join calls with Path functionality\n",
    "import os.path\n",
    "import qiime2\n",
    "import numpy as np\n",
    "import statsmodels.api as sm\n",
    "\n",
    "import pandas as pd\n",
    "import scipy as sp\n",
    "\n",
    "from qiime2.plugins.diversity.methods import pcoa as pcoa_method, filter_distance_matrix\n",
    "from qiime2.plugins.longitudinal.visualizers import anova"
   ]
  },
  {
   "cell_type": "code",
   "execution_count": 2,
   "metadata": {},
   "outputs": [
    {
     "name": "stderr",
     "output_type": "stream",
     "text": [
      "/Users/gregcaporaso/Dropbox/shared-analysis-results/2019.09-exmp/exmp-paper1/code/exmp.py:45: SettingWithCopyWarning: \n",
      "A value is trying to be set on a copy of a slice from a DataFrame.\n",
      "Try using .loc[row_indexer,col_indexer] = value instead\n",
      "\n",
      "See the caveats in the documentation: http://pandas.pydata.org/pandas-docs/stable/user_guide/indexing.html#returning-a-view-versus-a-copy\n",
      "  grouped_sample_metadata['period'])]\n"
     ]
    }
   ],
   "source": [
    "uu_dm = qiime2.Artifact.load(os.path.join(exmp.cm_grouped_by_period_path, \"unweighted_unifrac_distance_matrix.qza\"))\n",
    "wu_dm = qiime2.Artifact.load(os.path.join(exmp.cm_grouped_by_period_path, \"weighted_unifrac_distance_matrix.qza\"))\n",
    "faith_pd = qiime2.Artifact.load(os.path.join(exmp.cm_grouped_by_period_path, \"faith_pd_vector.qza\"))\n",
    "shannon = qiime2.Artifact.load(os.path.join(exmp.cm_grouped_by_period_path, \"shannon_vector.qza\"))\n",
    "evenness = qiime2.Artifact.load(os.path.join(exmp.cm_grouped_by_period_path, \"evenness_vector.qza\"))\n",
    "sample_metadata = exmp.load_sample_metadata_grouped_by_period()\n",
    "\n",
    "base_output_dir = os.path.join(exmp.cm_grouped_by_period_path, 'ols-and-anova')\n"
   ]
  },
  {
   "cell_type": "code",
   "execution_count": 3,
   "metadata": {},
   "outputs": [],
   "source": [
    "def ols_and_anova(dep_variable, project, period, base_output_dir, \n",
    "                  sample_metadata, uu_dm, wu_dm, faith_pd, shannon, evenness):\n",
    "    indep_variables = ['faith_pd', 'shannon', 'pielou_e', \n",
    "                       'Weighted_UniFrac_PC1', 'Weighted_UniFrac_PC2', 'Weighted_UniFrac_PC3', \n",
    "                       'Unweighted_UniFrac_PC1', 'Unweighted_UniFrac_PC2', 'Unweighted_UniFrac_PC3']\n",
    "    output_dir = os.path.join(base_output_dir, '%s-%s-period%d' % (project, dep_variable, period))\n",
    "    Path(output_dir).mkdir(parents=True, exist_ok=True)\n",
    "\n",
    "    where = \"[project]='%s' and [period]=%d\" % (project, period)\n",
    "\n",
    "    ids_to_keep = sample_metadata.get_ids(where=where)\n",
    "    sample_metadata = sample_metadata.filter_ids(ids_to_keep=ids_to_keep)\n",
    "\n",
    "    # make column names compatible for R-like forumulas used in anova\n",
    "    _df = sample_metadata.to_dataframe()\n",
    "    _df.index.name = 'sample-id'\n",
    "    _df = _df.rename(columns={'VO2max-change': 'VO2max_change',\n",
    "                              'RER-change': 'RER_change',\n",
    "                              'row-change': 'row_change',\n",
    "                              'bench-press-change': 'bench_press_change',\n",
    "                              '3RM-squat-change': 'three_rep_max_squat_change'})\n",
    "\n",
    "    # drop columns that don't have necessary data\n",
    "    if project == 'exmp1':\n",
    "        _df = _df[['VO2max_change', 'RER_change']].dropna().astype(np.float)\n",
    "    elif project == 'exmp2':\n",
    "        _df = _df[['row_change', 'bench_press_change', 'three_rep_max_squat_change']].dropna().astype(np.float)\n",
    "    else:\n",
    "        raise ValueError(\"Project must be exmp1 or exmp2, but %s was provided.\" % project)\n",
    "    sample_metadata = qiime2.Metadata(_df)\n",
    "\n",
    "    uu_dm = filter_distance_matrix(uu_dm, metadata=sample_metadata).filtered_distance_matrix\n",
    "    wu_dm = filter_distance_matrix(wu_dm, metadata=sample_metadata).filtered_distance_matrix\n",
    "\n",
    "    wu_pcoa = pcoa_method(wu_dm).pcoa\n",
    "    wu_pcoa = wu_pcoa.view(qiime2.Metadata).to_dataframe()[['Axis 1', 'Axis 2', 'Axis 3']]\n",
    "    wu_pcoa = wu_pcoa.rename(columns={'Axis 1': 'Weighted_UniFrac_PC1', \n",
    "                                      'Axis 2': 'Weighted_UniFrac_PC2', \n",
    "                                      'Axis 3': 'Weighted_UniFrac_PC3'})\n",
    "    sample_metadata = sample_metadata.merge(qiime2.Metadata(wu_pcoa))\n",
    "\n",
    "    uu_pcoa = pcoa_method(uu_dm).pcoa\n",
    "    uu_pcoa = uu_pcoa.view(qiime2.Metadata).to_dataframe()[['Axis 1', 'Axis 2', 'Axis 3']]\n",
    "    uu_pcoa = uu_pcoa.rename(columns={'Axis 1': 'Unweighted_UniFrac_PC1', \n",
    "                                      'Axis 2': 'Unweighted_UniFrac_PC2', \n",
    "                                      'Axis 3': 'Unweighted_UniFrac_PC3'})\n",
    "    sample_metadata = sample_metadata.merge(qiime2.Metadata(uu_pcoa))\n",
    "\n",
    "    sample_metadata = sample_metadata.merge(faith_pd.view(qiime2.Metadata).filter_ids(ids_to_keep=ids_to_keep))\n",
    "    sample_metadata = sample_metadata.merge(shannon.view(qiime2.Metadata).filter_ids(ids_to_keep=ids_to_keep))\n",
    "    sample_metadata = sample_metadata.merge(evenness.view(qiime2.Metadata).filter_ids(ids_to_keep=ids_to_keep))\n",
    "\n",
    "\n",
    "    df = sample_metadata.to_dataframe()\n",
    "    \n",
    "    dep_variable_histogram = df[dep_variable].hist().figure\n",
    "    dep_variable_histogram.savefig(os.path.join(output_dir, 'histogram.pdf'))\n",
    "\n",
    "    mod = sm.OLS(df[dep_variable], df[indep_variables])\n",
    "    res = mod.fit()\n",
    "    ols_result_summary = res.summary()\n",
    "    with open(os.path.join(output_dir, 'ols.txt'), 'w') as fh:\n",
    "        fh.write(ols_result_summary.as_text())\n",
    "    \n",
    "    formula = \"%s ~ %s\" % (dep_variable, ' + '.join(indep_variables))\n",
    "    anova_visualization = anova(metadata=qiime2.Metadata(df), formula=formula).visualization\n",
    "    anova_visualization.save(os.path.join(output_dir, 'anova.qzv'))\n",
    "    \n",
    "    return dep_variable_histogram, ols_result_summary, anova_visualization\n",
    "    \n",
    "    "
   ]
  },
  {
   "cell_type": "code",
   "execution_count": 4,
   "metadata": {},
   "outputs": [
    {
     "name": "stderr",
     "output_type": "stream",
     "text": [
      "/Users/gregcaporaso/miniconda3/envs/qiime2-2019.10/lib/python3.6/site-packages/skbio/stats/ordination/_principal_coordinate_analysis.py:152: RuntimeWarning: The result contains negative eigenvalues. Please compare their magnitude with the magnitude of some of the largest positive eigenvalues. If the negative ones are smaller, it's probably safe to ignore them, but if they are large in magnitude, the results won't be useful. See the Notes section for more details. The smallest eigenvalue is -0.05898439686274149 and the largest is 2.0005038902082655.\n",
      "  RuntimeWarning\n",
      "/Users/gregcaporaso/miniconda3/envs/qiime2-2019.10/lib/python3.6/site-packages/skbio/stats/ordination/_principal_coordinate_analysis.py:152: RuntimeWarning: The result contains negative eigenvalues. Please compare their magnitude with the magnitude of some of the largest positive eigenvalues. If the negative ones are smaller, it's probably safe to ignore them, but if they are large in magnitude, the results won't be useful. See the Notes section for more details. The smallest eigenvalue is -0.05898439686274149 and the largest is 2.0005038902082655.\n",
      "  RuntimeWarning\n",
      "/Users/gregcaporaso/miniconda3/envs/qiime2-2019.10/lib/python3.6/site-packages/skbio/stats/ordination/_principal_coordinate_analysis.py:152: RuntimeWarning: The result contains negative eigenvalues. Please compare their magnitude with the magnitude of some of the largest positive eigenvalues. If the negative ones are smaller, it's probably safe to ignore them, but if they are large in magnitude, the results won't be useful. See the Notes section for more details. The smallest eigenvalue is -0.03176306862419485 and the largest is 1.8574059048789824.\n",
      "  RuntimeWarning\n",
      "/Users/gregcaporaso/miniconda3/envs/qiime2-2019.10/lib/python3.6/site-packages/skbio/stats/ordination/_principal_coordinate_analysis.py:152: RuntimeWarning: The result contains negative eigenvalues. Please compare their magnitude with the magnitude of some of the largest positive eigenvalues. If the negative ones are smaller, it's probably safe to ignore them, but if they are large in magnitude, the results won't be useful. See the Notes section for more details. The smallest eigenvalue is -0.03176306862419485 and the largest is 1.8574059048789824.\n",
      "  RuntimeWarning\n",
      "/Users/gregcaporaso/miniconda3/envs/qiime2-2019.10/lib/python3.6/site-packages/skbio/stats/ordination/_principal_coordinate_analysis.py:152: RuntimeWarning: The result contains negative eigenvalues. Please compare their magnitude with the magnitude of some of the largest positive eigenvalues. If the negative ones are smaller, it's probably safe to ignore them, but if they are large in magnitude, the results won't be useful. See the Notes section for more details. The smallest eigenvalue is -0.03176306862419485 and the largest is 1.8574059048789824.\n",
      "  RuntimeWarning\n"
     ]
    }
   ],
   "source": [
    "r1 = ols_and_anova('VO2max_change', 'exmp1', 1, base_output_dir, \n",
    "                   sample_metadata, uu_dm, wu_dm, faith_pd, shannon, evenness)\n",
    "r2 = ols_and_anova('RER_change', 'exmp1', 1, base_output_dir, \n",
    "                   sample_metadata, uu_dm, wu_dm, faith_pd, shannon, evenness)\n",
    "r3 = ols_and_anova('row_change', 'exmp2', 1, base_output_dir, \n",
    "                   sample_metadata, uu_dm, wu_dm, faith_pd, shannon, evenness)\n",
    "r4 = ols_and_anova('bench_press_change', 'exmp2', 1, base_output_dir, \n",
    "                   sample_metadata, uu_dm, wu_dm, faith_pd, shannon, evenness)\n",
    "r5 = ols_and_anova('three_rep_max_squat_change', 'exmp2', 1, base_output_dir, \n",
    "                   sample_metadata, uu_dm, wu_dm, faith_pd, shannon, evenness)"
   ]
  },
  {
   "cell_type": "code",
   "execution_count": 5,
   "metadata": {},
   "outputs": [
    {
     "name": "stdout",
     "output_type": "stream",
     "text": [
      "                                 OLS Regression Results                                \n",
      "=======================================================================================\n",
      "Dep. Variable:          VO2max_change   R-squared (uncentered):                   0.541\n",
      "Model:                            OLS   Adj. R-squared (uncentered):              0.323\n",
      "Method:                 Least Squares   F-statistic:                              2.485\n",
      "Date:                Tue, 04 Feb 2020   Prob (F-statistic):                      0.0454\n",
      "Time:                        09:22:47   Log-Likelihood:                         -58.251\n",
      "No. Observations:                  28   AIC:                                      134.5\n",
      "Df Residuals:                      19   BIC:                                      146.5\n",
      "Df Model:                           9                                                  \n",
      "Covariance Type:            nonrobust                                                  \n",
      "==========================================================================================\n",
      "                             coef    std err          t      P>|t|      [0.025      0.975]\n",
      "------------------------------------------------------------------------------------------\n",
      "faith_pd                  -1.9247      0.511     -3.763      0.001      -2.995      -0.854\n",
      "shannon                    6.7171      5.212      1.289      0.213      -4.192      17.627\n",
      "pielou_e                 -10.8920     30.367     -0.359      0.724     -74.452      52.667\n",
      "Weighted_UniFrac_PC1       4.0118      1.820      2.204      0.040       0.203       7.821\n",
      "Weighted_UniFrac_PC2     -20.9527      5.617     -3.730      0.001     -32.709      -9.196\n",
      "Weighted_UniFrac_PC3      -7.0929      4.153     -1.708      0.104     -15.786       1.600\n",
      "Unweighted_UniFrac_PC1    18.6513      8.355      2.232      0.038       1.165      36.138\n",
      "Unweighted_UniFrac_PC2    -4.2767      4.596     -0.931      0.364     -13.896       5.343\n",
      "Unweighted_UniFrac_PC3     9.0206      5.993      1.505      0.149      -3.522      21.563\n",
      "==============================================================================\n",
      "Omnibus:                        1.440   Durbin-Watson:                   1.630\n",
      "Prob(Omnibus):                  0.487   Jarque-Bera (JB):                1.340\n",
      "Skew:                          -0.462   Prob(JB):                        0.512\n",
      "Kurtosis:                       2.458   Cond. No.                         837.\n",
      "==============================================================================\n",
      "\n",
      "Warnings:\n",
      "[1] Standard Errors assume that the covariance matrix of the errors is correctly specified.\n"
     ]
    }
   ],
   "source": [
    "print(r1[1])"
   ]
  },
  {
   "cell_type": "code",
   "execution_count": 6,
   "metadata": {},
   "outputs": [
    {
     "data": {
      "text/html": [
       "<div><img onload=\"(function(div, url){\n",
       "if (typeof require !== 'undefined') {\n",
       "    var baseURL = require.toUrl('').split('/').slice(0, -2).join('/');\n",
       "} else {\n",
       "    var baseURL = JSON.parse(\n",
       "        document.getElementById('jupyter-config-data').innerHTML\n",
       "    ).baseUrl.slice(0, -1);\n",
       "}\n",
       "url = baseURL + url;\n",
       "fetch(url).then(function(res) {\n",
       "    if (res.status === 404) {\n",
       "        div.innerHTML = 'Install QIIME 2 Jupyter extension with:<br />' +\n",
       "                        '<code>jupyter serverextension enable --py qiime2' +\n",
       "                        ' --sys-prefix</code><br />then restart your server.' +\n",
       "                        '<br /><br />(Interactive output not available on ' +\n",
       "                        'static notebook viewer services like nbviewer.)';\n",
       "    } else if (res.status === 409) {\n",
       "        div.innerHTML = 'Visualization no longer in scope. Re-run this cell' +\n",
       "                        ' to see the visualization.';\n",
       "    } else if (res.ok) {\n",
       "        url = res.url;\n",
       "        div.innerHTML = '<iframe src=\\'' + url + '\\' style=\\'' +\n",
       "                        'width: 100%; height: 700px; border: 0;\\'>' +\n",
       "                        '</iframe><hr />Open in a: <a href=\\'' + url + '\\'' +\n",
       "                        ' target=\\'_blank\\'>new window</a>'\n",
       "    } else {\n",
       "        div.innerHTML = 'Something has gone wrong. Check notebook server for' +\n",
       "                        ' errors.';\n",
       "    }\n",
       "});\n",
       "})(this.parentElement, '/qiime2/redirect?location=/var/folders/b6/g3p2lswj2153q21x12mjlfwh0000gn/T/qiime2-archive-3kx18869')\" src=\"data:image/gif;base64,R0lGODlhAQABAIAAAP///wAAACH5BAEAAAAALAAAAAABAAEAAAICRAEAOw==\" /></div>"
      ],
      "text/plain": [
       "<visualization: Visualization uuid: f2ed1324-2260-4f02-af31-1bee08981f08>"
      ]
     },
     "execution_count": 6,
     "metadata": {},
     "output_type": "execute_result"
    }
   ],
   "source": [
    "r1[2]"
   ]
  },
  {
   "cell_type": "code",
   "execution_count": 7,
   "metadata": {},
   "outputs": [
    {
     "name": "stdout",
     "output_type": "stream",
     "text": [
      "                                     OLS Regression Results                                    \n",
      "===============================================================================================\n",
      "Dep. Variable:     three_rep_max_squat_change   R-squared (uncentered):                   0.819\n",
      "Model:                                    OLS   Adj. R-squared (uncentered):              0.718\n",
      "Method:                         Least Squares   F-statistic:                              8.064\n",
      "Date:                        Tue, 04 Feb 2020   Prob (F-statistic):                    0.000180\n",
      "Time:                                09:23:24   Log-Likelihood:                         -98.983\n",
      "No. Observations:                          25   AIC:                                      216.0\n",
      "Df Residuals:                              16   BIC:                                      226.9\n",
      "Df Model:                                   9                                                  \n",
      "Covariance Type:                    nonrobust                                                  \n",
      "==========================================================================================\n",
      "                             coef    std err          t      P>|t|      [0.025      0.975]\n",
      "------------------------------------------------------------------------------------------\n",
      "faith_pd                  -3.1643      3.336     -0.948      0.357     -10.237       3.908\n",
      "shannon                  -43.9852     36.054     -1.220      0.240    -120.417      32.446\n",
      "pielou_e                 436.6678    278.465      1.568      0.136    -153.651    1026.987\n",
      "Weighted_UniFrac_PC1     -22.3142     27.805     -0.803      0.434     -81.259      36.630\n",
      "Weighted_UniFrac_PC2      23.7737     30.977      0.767      0.454     -41.895      89.442\n",
      "Weighted_UniFrac_PC3     -40.7309     36.204     -1.125      0.277    -117.479      36.017\n",
      "Unweighted_UniFrac_PC1  -155.8637     97.591     -1.597      0.130    -362.747      51.019\n",
      "Unweighted_UniFrac_PC2    75.6251     50.993      1.483      0.157     -32.476     183.726\n",
      "Unweighted_UniFrac_PC3    -4.9318     41.842     -0.118      0.908     -93.632      83.768\n",
      "==============================================================================\n",
      "Omnibus:                        7.790   Durbin-Watson:                   1.782\n",
      "Prob(Omnibus):                  0.020   Jarque-Bera (JB):                5.703\n",
      "Skew:                           1.056   Prob(JB):                       0.0577\n",
      "Kurtosis:                       4.009   Cond. No.                     1.70e+03\n",
      "==============================================================================\n",
      "\n",
      "Warnings:\n",
      "[1] Standard Errors assume that the covariance matrix of the errors is correctly specified.\n",
      "[2] The condition number is large, 1.7e+03. This might indicate that there are\n",
      "strong multicollinearity or other numerical problems.\n"
     ]
    }
   ],
   "source": [
    "print(r5[1])"
   ]
  },
  {
   "cell_type": "code",
   "execution_count": 8,
   "metadata": {},
   "outputs": [
    {
     "data": {
      "text/html": [
       "<div><img onload=\"(function(div, url){\n",
       "if (typeof require !== 'undefined') {\n",
       "    var baseURL = require.toUrl('').split('/').slice(0, -2).join('/');\n",
       "} else {\n",
       "    var baseURL = JSON.parse(\n",
       "        document.getElementById('jupyter-config-data').innerHTML\n",
       "    ).baseUrl.slice(0, -1);\n",
       "}\n",
       "url = baseURL + url;\n",
       "fetch(url).then(function(res) {\n",
       "    if (res.status === 404) {\n",
       "        div.innerHTML = 'Install QIIME 2 Jupyter extension with:<br />' +\n",
       "                        '<code>jupyter serverextension enable --py qiime2' +\n",
       "                        ' --sys-prefix</code><br />then restart your server.' +\n",
       "                        '<br /><br />(Interactive output not available on ' +\n",
       "                        'static notebook viewer services like nbviewer.)';\n",
       "    } else if (res.status === 409) {\n",
       "        div.innerHTML = 'Visualization no longer in scope. Re-run this cell' +\n",
       "                        ' to see the visualization.';\n",
       "    } else if (res.ok) {\n",
       "        url = res.url;\n",
       "        div.innerHTML = '<iframe src=\\'' + url + '\\' style=\\'' +\n",
       "                        'width: 100%; height: 700px; border: 0;\\'>' +\n",
       "                        '</iframe><hr />Open in a: <a href=\\'' + url + '\\'' +\n",
       "                        ' target=\\'_blank\\'>new window</a>'\n",
       "    } else {\n",
       "        div.innerHTML = 'Something has gone wrong. Check notebook server for' +\n",
       "                        ' errors.';\n",
       "    }\n",
       "});\n",
       "})(this.parentElement, '/qiime2/redirect?location=/var/folders/b6/g3p2lswj2153q21x12mjlfwh0000gn/T/qiime2-archive-eh408ufj')\" src=\"data:image/gif;base64,R0lGODlhAQABAIAAAP///wAAACH5BAEAAAAALAAAAAABAAEAAAICRAEAOw==\" /></div>"
      ],
      "text/plain": [
       "<visualization: Visualization uuid: 3dc13e32-17cc-489b-b267-22c679c7a920>"
      ]
     },
     "execution_count": 8,
     "metadata": {},
     "output_type": "execute_result"
    }
   ],
   "source": [
    "r5[2]"
   ]
  },
  {
   "cell_type": "code",
   "execution_count": null,
   "metadata": {},
   "outputs": [],
   "source": []
  }
 ],
 "metadata": {
  "kernelspec": {
   "display_name": "Python 3",
   "language": "python",
   "name": "python3"
  },
  "language_info": {
   "codemirror_mode": {
    "name": "ipython",
    "version": 3
   },
   "file_extension": ".py",
   "mimetype": "text/x-python",
   "name": "python",
   "nbconvert_exporter": "python",
   "pygments_lexer": "ipython3",
   "version": "3.6.7"
  }
 },
 "nbformat": 4,
 "nbformat_minor": 2
}
