{
 "cells": [
  {
   "cell_type": "code",
   "execution_count": 1,
   "metadata": {},
   "outputs": [],
   "source": [
    "import exmp\n",
    "from pathlib import Path\n",
    "# replace os.path.join calls with Path functionality\n",
    "import os.path\n",
    "import qiime2\n",
    "import numpy as np\n",
    "import statsmodels.api as sm\n",
    "\n",
    "import pandas as pd\n",
    "import scipy as sp\n",
    "\n",
    "from qiime2.plugins.diversity.methods import pcoa as pcoa_method, filter_distance_matrix\n",
    "from qiime2.plugins.longitudinal.visualizers import anova"
   ]
  },
  {
   "cell_type": "code",
   "execution_count": 2,
   "metadata": {},
   "outputs": [],
   "source": [
    "time_column = 'week'\n",
    "\n",
    "if time_column == 'period':\n",
    "    data_dir = exmp.cm_grouped_by_period_path\n",
    "    sample_metadata = exmp.load_sample_metadata_grouped_by_period()\n",
    "    # need to assess how these values will be used\n",
    "    time_value = 1\n",
    "elif time_column == 'week':\n",
    "    data_dir = exmp.cm_path\n",
    "    sample_metadata = exmp.load_sample_metadata()\n",
    "    # need to assess how these values will be used\n",
    "    time_value = '1.0'\n",
    "else:\n",
    "    raise ValueError(\"Invalid value for time_column.\")"
   ]
  },
  {
   "cell_type": "code",
   "execution_count": 3,
   "metadata": {},
   "outputs": [],
   "source": [
    "uu_dm = qiime2.Artifact.load(os.path.join(data_dir, \"unweighted_unifrac_distance_matrix.qza\"))\n",
    "wu_dm = qiime2.Artifact.load(os.path.join(data_dir, \"weighted_unifrac_distance_matrix.qza\"))\n",
    "# add bray-curtis and jaccard for consistency\n",
    "faith_pd = qiime2.Artifact.load(os.path.join(data_dir, \"faith_pd_vector.qza\"))\n",
    "shannon = qiime2.Artifact.load(os.path.join(data_dir, \"shannon_vector.qza\"))\n",
    "evenness = qiime2.Artifact.load(os.path.join(data_dir, \"evenness_vector.qza\"))\n",
    "\n",
    "base_output_dir = os.path.join(data_dir, 'ols-and-anova')\n"
   ]
  },
  {
   "cell_type": "code",
   "execution_count": 4,
   "metadata": {},
   "outputs": [],
   "source": [
    "def ols_and_anova(dep_variable, project, time_value, base_output_dir, time_column,\n",
    "                  sample_metadata, uu_dm, wu_dm, faith_pd, shannon, evenness):\n",
    "    indep_variables = ['faith_pd', 'shannon', 'pielou_e', \n",
    "                       'Weighted_UniFrac_PC1', 'Weighted_UniFrac_PC2', 'Weighted_UniFrac_PC3', \n",
    "                       'Unweighted_UniFrac_PC1', 'Unweighted_UniFrac_PC2', 'Unweighted_UniFrac_PC3']\n",
    "    output_dir = os.path.join(base_output_dir, '%s-%s-%s%s' % (project, dep_variable, time_column, str(time_value)))\n",
    "    Path(output_dir).mkdir(parents=True, exist_ok=True)\n",
    "\n",
    "    where = \"[project]='%s' and [%s]='%s'\" % (project, time_column, str(time_value))\n",
    "    \n",
    "    ids_to_keep = sample_metadata.get_ids(where=where)\n",
    "    sample_metadata = sample_metadata.filter_ids(ids_to_keep=ids_to_keep)\n",
    "\n",
    "    # make column names compatible for R-like forumulas used in anova\n",
    "    _df = sample_metadata.to_dataframe()\n",
    "    _df.index.name = 'sample-id'\n",
    "    _df = _df.rename(columns={'VO2max-change': 'VO2max_change',\n",
    "                              'RER-change': 'RER_change',\n",
    "                              'row-change': 'row_change',\n",
    "                              'bench-press-change': 'bench_press_change',\n",
    "                              '3RM-squat-change': 'three_rep_max_squat_change'})\n",
    "\n",
    "    # drop columns that don't have necessary data\n",
    "    if project == 'exmp1':\n",
    "        _df = _df[['VO2max_change', 'RER_change']].dropna().astype(np.float)\n",
    "    elif project == 'exmp2':\n",
    "        _df = _df[['row_change', 'bench_press_change', 'three_rep_max_squat_change']].dropna().astype(np.float)\n",
    "    else:\n",
    "        raise ValueError(\"Project must be exmp1 or exmp2, but %s was provided.\" % project)\n",
    "    sample_metadata = qiime2.Metadata(_df)\n",
    "\n",
    "    uu_dm = filter_distance_matrix(uu_dm, metadata=sample_metadata).filtered_distance_matrix\n",
    "    wu_dm = filter_distance_matrix(wu_dm, metadata=sample_metadata).filtered_distance_matrix\n",
    "\n",
    "    wu_pcoa = pcoa_method(wu_dm).pcoa\n",
    "    wu_pcoa = wu_pcoa.view(qiime2.Metadata).to_dataframe()[['Axis 1', 'Axis 2', 'Axis 3']]\n",
    "    wu_pcoa = wu_pcoa.rename(columns={'Axis 1': 'Weighted_UniFrac_PC1', \n",
    "                                      'Axis 2': 'Weighted_UniFrac_PC2', \n",
    "                                      'Axis 3': 'Weighted_UniFrac_PC3'})\n",
    "    sample_metadata = sample_metadata.merge(qiime2.Metadata(wu_pcoa))\n",
    "    \n",
    "    uu_pcoa = pcoa_method(uu_dm).pcoa\n",
    "    uu_pcoa = uu_pcoa.view(qiime2.Metadata).to_dataframe()[['Axis 1', 'Axis 2', 'Axis 3']]\n",
    "    uu_pcoa = uu_pcoa.rename(columns={'Axis 1': 'Unweighted_UniFrac_PC1', \n",
    "                                      'Axis 2': 'Unweighted_UniFrac_PC2', \n",
    "                                      'Axis 3': 'Unweighted_UniFrac_PC3'})\n",
    "    sample_metadata = sample_metadata.merge(qiime2.Metadata(uu_pcoa))\n",
    "\n",
    "    sample_metadata = sample_metadata.merge(faith_pd.view(qiime2.Metadata))\n",
    "    sample_metadata = sample_metadata.merge(shannon.view(qiime2.Metadata))\n",
    "    sample_metadata = sample_metadata.merge(evenness.view(qiime2.Metadata))\n",
    "\n",
    "\n",
    "    df = sample_metadata.to_dataframe()\n",
    "    df = sm.add_constant(df)\n",
    "    \n",
    "    dep_variable_histogram = df[dep_variable].hist().figure\n",
    "    dep_variable_histogram.savefig(os.path.join(output_dir, 'histogram.pdf'))\n",
    "\n",
    "    mod = sm.OLS(df[dep_variable], df[['const'] + indep_variables])\n",
    "    res = mod.fit()\n",
    "    ols_result_summary = res.summary()\n",
    "    with open(os.path.join(output_dir, 'ols.txt'), 'w') as fh:\n",
    "        fh.write(ols_result_summary.as_text())\n",
    "    \n",
    "    formula = \"%s ~ %s\" % (dep_variable, ' + '.join(indep_variables))\n",
    "    anova_visualization = anova(metadata=qiime2.Metadata(df), formula=formula).visualization\n",
    "    anova_visualization.save(os.path.join(output_dir, 'anova.qzv'))\n",
    "    \n",
    "    return dep_variable_histogram, ols_result_summary, anova_visualization, sample_metadata\n",
    "    \n",
    "    "
   ]
  },
  {
   "cell_type": "code",
   "execution_count": 5,
   "metadata": {},
   "outputs": [
    {
     "name": "stderr",
     "output_type": "stream",
     "text": [
      "/Users/gregcaporaso/miniconda3/envs/qiime2-2019.10/lib/python3.6/site-packages/skbio/stats/ordination/_principal_coordinate_analysis.py:152: RuntimeWarning: The result contains negative eigenvalues. Please compare their magnitude with the magnitude of some of the largest positive eigenvalues. If the negative ones are smaller, it's probably safe to ignore them, but if they are large in magnitude, the results won't be useful. See the Notes section for more details. The smallest eigenvalue is -0.04916905343409495 and the largest is 2.0003670932524003.\n",
      "  RuntimeWarning\n",
      "/Users/gregcaporaso/miniconda3/envs/qiime2-2019.10/lib/python3.6/site-packages/numpy/core/fromnumeric.py:2495: FutureWarning: Method .ptp is deprecated and will be removed in a future version. Use numpy.ptp instead.\n",
      "  return ptp(axis=axis, out=out, **kwargs)\n",
      "/Users/gregcaporaso/miniconda3/envs/qiime2-2019.10/lib/python3.6/site-packages/skbio/stats/ordination/_principal_coordinate_analysis.py:152: RuntimeWarning: The result contains negative eigenvalues. Please compare their magnitude with the magnitude of some of the largest positive eigenvalues. If the negative ones are smaller, it's probably safe to ignore them, but if they are large in magnitude, the results won't be useful. See the Notes section for more details. The smallest eigenvalue is -0.04916905343409495 and the largest is 2.0003670932524003.\n",
      "  RuntimeWarning\n",
      "/Users/gregcaporaso/miniconda3/envs/qiime2-2019.10/lib/python3.6/site-packages/numpy/core/fromnumeric.py:2495: FutureWarning: Method .ptp is deprecated and will be removed in a future version. Use numpy.ptp instead.\n",
      "  return ptp(axis=axis, out=out, **kwargs)\n",
      "/Users/gregcaporaso/miniconda3/envs/qiime2-2019.10/lib/python3.6/site-packages/skbio/stats/ordination/_principal_coordinate_analysis.py:152: RuntimeWarning: The result contains negative eigenvalues. Please compare their magnitude with the magnitude of some of the largest positive eigenvalues. If the negative ones are smaller, it's probably safe to ignore them, but if they are large in magnitude, the results won't be useful. See the Notes section for more details. The smallest eigenvalue is -0.021857278540656003 and the largest is 1.507470287408108.\n",
      "  RuntimeWarning\n",
      "/Users/gregcaporaso/miniconda3/envs/qiime2-2019.10/lib/python3.6/site-packages/numpy/core/fromnumeric.py:2495: FutureWarning: Method .ptp is deprecated and will be removed in a future version. Use numpy.ptp instead.\n",
      "  return ptp(axis=axis, out=out, **kwargs)\n",
      "/Users/gregcaporaso/miniconda3/envs/qiime2-2019.10/lib/python3.6/site-packages/scipy/stats/stats.py:1450: UserWarning: kurtosistest only valid for n>=20 ... continuing anyway, n=15\n",
      "  \"anyway, n=%i\" % int(n))\n",
      "/Users/gregcaporaso/miniconda3/envs/qiime2-2019.10/lib/python3.6/site-packages/skbio/stats/ordination/_principal_coordinate_analysis.py:152: RuntimeWarning: The result contains negative eigenvalues. Please compare their magnitude with the magnitude of some of the largest positive eigenvalues. If the negative ones are smaller, it's probably safe to ignore them, but if they are large in magnitude, the results won't be useful. See the Notes section for more details. The smallest eigenvalue is -0.021857278540656003 and the largest is 1.507470287408108.\n",
      "  RuntimeWarning\n",
      "/Users/gregcaporaso/miniconda3/envs/qiime2-2019.10/lib/python3.6/site-packages/numpy/core/fromnumeric.py:2495: FutureWarning: Method .ptp is deprecated and will be removed in a future version. Use numpy.ptp instead.\n",
      "  return ptp(axis=axis, out=out, **kwargs)\n",
      "/Users/gregcaporaso/miniconda3/envs/qiime2-2019.10/lib/python3.6/site-packages/scipy/stats/stats.py:1450: UserWarning: kurtosistest only valid for n>=20 ... continuing anyway, n=15\n",
      "  \"anyway, n=%i\" % int(n))\n",
      "/Users/gregcaporaso/miniconda3/envs/qiime2-2019.10/lib/python3.6/site-packages/skbio/stats/ordination/_principal_coordinate_analysis.py:152: RuntimeWarning: The result contains negative eigenvalues. Please compare their magnitude with the magnitude of some of the largest positive eigenvalues. If the negative ones are smaller, it's probably safe to ignore them, but if they are large in magnitude, the results won't be useful. See the Notes section for more details. The smallest eigenvalue is -0.021857278540656003 and the largest is 1.507470287408108.\n",
      "  RuntimeWarning\n",
      "/Users/gregcaporaso/miniconda3/envs/qiime2-2019.10/lib/python3.6/site-packages/numpy/core/fromnumeric.py:2495: FutureWarning: Method .ptp is deprecated and will be removed in a future version. Use numpy.ptp instead.\n",
      "  return ptp(axis=axis, out=out, **kwargs)\n",
      "/Users/gregcaporaso/miniconda3/envs/qiime2-2019.10/lib/python3.6/site-packages/scipy/stats/stats.py:1450: UserWarning: kurtosistest only valid for n>=20 ... continuing anyway, n=15\n",
      "  \"anyway, n=%i\" % int(n))\n"
     ]
    }
   ],
   "source": [
    "r1 = ols_and_anova('VO2max_change', 'exmp1', time_value, base_output_dir, time_column,\n",
    "                   sample_metadata, uu_dm, wu_dm, faith_pd, shannon, evenness)\n",
    "r2 = ols_and_anova('RER_change', 'exmp1', time_value, base_output_dir, time_column,\n",
    "                   sample_metadata, uu_dm, wu_dm, faith_pd, shannon, evenness)\n",
    "r3 = ols_and_anova('row_change', 'exmp2', time_value, base_output_dir, time_column,\n",
    "                   sample_metadata, uu_dm, wu_dm, faith_pd, shannon, evenness)\n",
    "r4 = ols_and_anova('bench_press_change', 'exmp2', time_value, base_output_dir, time_column,\n",
    "                   sample_metadata, uu_dm, wu_dm, faith_pd, shannon, evenness)\n",
    "r5 = ols_and_anova('three_rep_max_squat_change', 'exmp2', time_value, base_output_dir, time_column,\n",
    "                   sample_metadata, uu_dm, wu_dm, faith_pd, shannon, evenness)"
   ]
  },
  {
   "cell_type": "code",
   "execution_count": 6,
   "metadata": {},
   "outputs": [
    {
     "name": "stdout",
     "output_type": "stream",
     "text": [
      "                            OLS Regression Results                            \n",
      "==============================================================================\n",
      "Dep. Variable:          VO2max_change   R-squared:                       0.350\n",
      "Model:                            OLS   Adj. R-squared:                  0.042\n",
      "Method:                 Least Squares   F-statistic:                     1.136\n",
      "Date:                Wed, 12 Feb 2020   Prob (F-statistic):              0.386\n",
      "Time:                        17:19:33   Log-Likelihood:                -64.961\n",
      "No. Observations:                  29   AIC:                             149.9\n",
      "Df Residuals:                      19   BIC:                             163.6\n",
      "Df Model:                           9                                         \n",
      "Covariance Type:            nonrobust                                         \n",
      "==========================================================================================\n",
      "                             coef    std err          t      P>|t|      [0.025      0.975]\n",
      "------------------------------------------------------------------------------------------\n",
      "const                    -13.5200      9.717     -1.391      0.180     -33.857       6.817\n",
      "faith_pd                   1.1567      0.753      1.535      0.141      -0.420       2.734\n",
      "shannon                  -11.2128      4.887     -2.295      0.033     -21.441      -0.985\n",
      "pielou_e                  72.5263     32.079      2.261      0.036       5.384     139.668\n",
      "Weighted_UniFrac_PC1      -2.0522      2.787     -0.736      0.470      -7.885       3.780\n",
      "Weighted_UniFrac_PC2      -0.6488      5.253     -0.124      0.903     -11.643      10.346\n",
      "Weighted_UniFrac_PC3      -4.0309      5.211     -0.773      0.449     -14.939       6.877\n",
      "Unweighted_UniFrac_PC1    -1.3031     10.953     -0.119      0.907     -24.228      21.622\n",
      "Unweighted_UniFrac_PC2     9.7915      5.029      1.947      0.066      -0.734      20.318\n",
      "Unweighted_UniFrac_PC3    -7.5695      8.704     -0.870      0.395     -25.787      10.648\n",
      "==============================================================================\n",
      "Omnibus:                        0.528   Durbin-Watson:                   2.698\n",
      "Prob(Omnibus):                  0.768   Jarque-Bera (JB):                0.642\n",
      "Skew:                           0.183   Prob(JB):                        0.725\n",
      "Kurtosis:                       2.369   Cond. No.                         790.\n",
      "==============================================================================\n",
      "\n",
      "Warnings:\n",
      "[1] Standard Errors assume that the covariance matrix of the errors is correctly specified.\n"
     ]
    }
   ],
   "source": [
    "print(r1[1])"
   ]
  },
  {
   "cell_type": "code",
   "execution_count": 7,
   "metadata": {},
   "outputs": [
    {
     "name": "stdout",
     "output_type": "stream",
     "text": [
      "<visualization: Visualization uuid: 950317b7-c1aa-4b8b-ab72-8391f8d7c78a>\n"
     ]
    }
   ],
   "source": [
    "print(r1[2])"
   ]
  },
  {
   "cell_type": "code",
   "execution_count": 8,
   "metadata": {},
   "outputs": [
    {
     "name": "stdout",
     "output_type": "stream",
     "text": [
      "                            OLS Regression Results                            \n",
      "==============================================================================\n",
      "Dep. Variable:     bench_press_change   R-squared:                       0.578\n",
      "Model:                            OLS   Adj. R-squared:                 -0.182\n",
      "Method:                 Least Squares   F-statistic:                    0.7600\n",
      "Date:                Wed, 12 Feb 2020   Prob (F-statistic):              0.661\n",
      "Time:                        17:20:08   Log-Likelihood:                -37.211\n",
      "No. Observations:                  15   AIC:                             94.42\n",
      "Df Residuals:                       5   BIC:                             101.5\n",
      "Df Model:                           9                                         \n",
      "Covariance Type:            nonrobust                                         \n",
      "==========================================================================================\n",
      "                             coef    std err          t      P>|t|      [0.025      0.975]\n",
      "------------------------------------------------------------------------------------------\n",
      "const                    -16.5082     54.285     -0.304      0.773    -156.051     123.035\n",
      "faith_pd                   1.0238      2.319      0.442      0.677      -4.937       6.984\n",
      "shannon                  -40.5940     43.948     -0.924      0.398    -153.566      72.378\n",
      "pielou_e                 301.1828    339.083      0.888      0.415    -570.459    1172.825\n",
      "Weighted_UniFrac_PC1      -1.9549     17.556     -0.111      0.916     -47.083      43.173\n",
      "Weighted_UniFrac_PC2     -10.4066     16.752     -0.621      0.562     -53.470      32.657\n",
      "Weighted_UniFrac_PC3       2.1702     19.528      0.111      0.916     -48.028      52.368\n",
      "Unweighted_UniFrac_PC1    24.9106     23.564      1.057      0.339     -35.663      85.485\n",
      "Unweighted_UniFrac_PC2     8.0151     19.896      0.403      0.704     -43.129      59.159\n",
      "Unweighted_UniFrac_PC3    -5.5958     35.432     -0.158      0.881     -96.676      85.484\n",
      "==============================================================================\n",
      "Omnibus:                        0.237   Durbin-Watson:                   2.532\n",
      "Prob(Omnibus):                  0.888   Jarque-Bera (JB):                0.371\n",
      "Skew:                           0.230   Prob(JB):                        0.831\n",
      "Kurtosis:                       2.382   Cond. No.                     4.34e+03\n",
      "==============================================================================\n",
      "\n",
      "Warnings:\n",
      "[1] Standard Errors assume that the covariance matrix of the errors is correctly specified.\n",
      "[2] The condition number is large, 4.34e+03. This might indicate that there are\n",
      "strong multicollinearity or other numerical problems.\n"
     ]
    }
   ],
   "source": [
    "print(r4[1])"
   ]
  }
 ],
 "metadata": {
  "kernelspec": {
   "display_name": "Python 3",
   "language": "python",
   "name": "python3"
  },
  "language_info": {
   "codemirror_mode": {
    "name": "ipython",
    "version": 3
   },
   "file_extension": ".py",
   "mimetype": "text/x-python",
   "name": "python",
   "nbconvert_exporter": "python",
   "pygments_lexer": "ipython3",
   "version": "3.6.7"
  }
 },
 "nbformat": 4,
 "nbformat_minor": 2
}
