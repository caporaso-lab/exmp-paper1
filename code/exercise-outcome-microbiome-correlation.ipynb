{
 "cells": [
  {
   "cell_type": "code",
   "execution_count": null,
   "metadata": {},
   "outputs": [],
   "source": [
    "import exmp\n",
    "# replace os.path.join calls with Path functionality\n",
    "import os.path\n",
    "import qiime2"
   ]
  },
  {
   "cell_type": "code",
   "execution_count": null,
   "metadata": {},
   "outputs": [],
   "source": [
    "time_column = 'week'\n",
    "time_values = ['1.0', '2.0', '3.0']\n",
    "\n",
    "data_dir = exmp.cm_path\n",
    "sample_metadata = exmp.load_sample_metadata()\n",
    "\n",
    "uu_dm = qiime2.Artifact.load(os.path.join(data_dir, \"unweighted_unifrac_distance_matrix.qza\"))\n",
    "wu_dm = qiime2.Artifact.load(os.path.join(data_dir, \"weighted_unifrac_distance_matrix.qza\"))\n",
    "faith_pd = qiime2.Artifact.load(os.path.join(data_dir, \"faith_pd_vector.qza\"))\n",
    "shannon = qiime2.Artifact.load(os.path.join(data_dir, \"shannon_vector.qza\"))\n",
    "evenness = qiime2.Artifact.load(os.path.join(data_dir, \"evenness_vector.qza\"))\n",
    "\n",
    "base_output_dir = os.path.join(data_dir, 'ols-and-anova')\n",
    "\n",
    "for time_value in time_values:\n",
    "    _ = exmp.ols_and_anova('VO2max_change', 'exmp1', time_value, base_output_dir, time_column,\n",
    "                           sample_metadata, uu_dm, wu_dm, faith_pd, shannon, evenness)\n",
    "    _ = exmp.ols_and_anova('RER_change', 'exmp1', time_value, base_output_dir, time_column,\n",
    "                           sample_metadata, uu_dm, wu_dm, faith_pd, shannon, evenness)\n",
    "    _ = exmp.ols_and_anova('row_change', 'exmp2', time_value, base_output_dir, time_column,\n",
    "                           sample_metadata, uu_dm, wu_dm, faith_pd, shannon, evenness)\n",
    "    _ = exmp.ols_and_anova('bench_press_change', 'exmp2', time_value, base_output_dir, time_column,\n",
    "                           sample_metadata, uu_dm, wu_dm, faith_pd, shannon, evenness)\n",
    "    _ = exmp.ols_and_anova('three_rep_max_squat_change', 'exmp2', time_value, base_output_dir, time_column,\n",
    "                           sample_metadata, uu_dm, wu_dm, faith_pd, shannon, evenness)"
   ]
  },
  {
   "cell_type": "code",
   "execution_count": null,
   "metadata": {},
   "outputs": [],
   "source": [
    "time_column = 'period'\n",
    "time_values = [1]\n",
    "\n",
    "data_dir = exmp.cm_grouped_by_period_path\n",
    "sample_metadata = exmp.load_sample_metadata_grouped_by_period()\n",
    "\n",
    "uu_dm = qiime2.Artifact.load(os.path.join(data_dir, \"unweighted_unifrac_distance_matrix.qza\"))\n",
    "wu_dm = qiime2.Artifact.load(os.path.join(data_dir, \"weighted_unifrac_distance_matrix.qza\"))\n",
    "faith_pd = qiime2.Artifact.load(os.path.join(data_dir, \"faith_pd_vector.qza\"))\n",
    "shannon = qiime2.Artifact.load(os.path.join(data_dir, \"shannon_vector.qza\"))\n",
    "evenness = qiime2.Artifact.load(os.path.join(data_dir, \"evenness_vector.qza\"))\n",
    "\n",
    "base_output_dir = os.path.join(data_dir, 'ols-and-anova')\n",
    "\n",
    "for time_value in time_values:\n",
    "    _ = exmp.ols_and_anova('VO2max_change', 'exmp1', time_value, base_output_dir, time_column,\n",
    "                           sample_metadata, uu_dm, wu_dm, faith_pd, shannon, evenness)\n",
    "    _ = exmp.ols_and_anova('RER_change', 'exmp1', time_value, base_output_dir, time_column,\n",
    "                           sample_metadata, uu_dm, wu_dm, faith_pd, shannon, evenness)\n",
    "    _ = exmp.ols_and_anova('row_change', 'exmp2', time_value, base_output_dir, time_column,\n",
    "                           sample_metadata, uu_dm, wu_dm, faith_pd, shannon, evenness)\n",
    "    _ = exmp.ols_and_anova('bench_press_change', 'exmp2', time_value, base_output_dir, time_column,\n",
    "                           sample_metadata, uu_dm, wu_dm, faith_pd, shannon, evenness)\n",
    "    _ = exmp.ols_and_anova('three_rep_max_squat_change', 'exmp2', time_value, base_output_dir, time_column,\n",
    "                           sample_metadata, uu_dm, wu_dm, faith_pd, shannon, evenness)"
   ]
  },
  {
   "cell_type": "code",
   "execution_count": null,
   "metadata": {},
   "outputs": [],
   "source": []
  }
 ],
 "metadata": {
  "kernelspec": {
   "display_name": "Python 3",
   "language": "python",
   "name": "python3"
  },
  "language_info": {
   "codemirror_mode": {
    "name": "ipython",
    "version": 3
   },
   "file_extension": ".py",
   "mimetype": "text/x-python",
   "name": "python",
   "nbconvert_exporter": "python",
   "pygments_lexer": "ipython3",
   "version": "3.6.7"
  }
 },
 "nbformat": 4,
 "nbformat_minor": 2
}
