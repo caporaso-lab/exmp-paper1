{
 "cells": [
  {
   "cell_type": "code",
   "execution_count": 1,
   "metadata": {},
   "outputs": [],
   "source": [
    "import exmp\n",
    "from pathlib import Path\n",
    "# replace os.path.join calls with Path functionality\n",
    "import os.path\n",
    "import qiime2\n",
    "import numpy as np\n",
    "import statsmodels.api as sm\n",
    "\n",
    "import pandas as pd\n",
    "import scipy as sp\n",
    "\n",
    "from qiime2.plugins.diversity.methods import pcoa as pcoa_method, filter_distance_matrix\n",
    "from qiime2.plugins.longitudinal.visualizers import anova"
   ]
  },
  {
   "cell_type": "code",
   "execution_count": 2,
   "metadata": {},
   "outputs": [
    {
     "name": "stderr",
     "output_type": "stream",
     "text": [
      "/Users/gregcaporaso/Dropbox/shared-analysis-results/2019.09-exmp/exmp-paper1/code/exmp.py:45: SettingWithCopyWarning: \n",
      "A value is trying to be set on a copy of a slice from a DataFrame.\n",
      "Try using .loc[row_indexer,col_indexer] = value instead\n",
      "\n",
      "See the caveats in the documentation: http://pandas.pydata.org/pandas-docs/stable/user_guide/indexing.html#returning-a-view-versus-a-copy\n",
      "  grouped_sample_metadata['period'])]\n"
     ]
    }
   ],
   "source": [
    "uu_dm = qiime2.Artifact.load(os.path.join(exmp.cm_grouped_by_period_path, \"unweighted_unifrac_distance_matrix.qza\"))\n",
    "wu_dm = qiime2.Artifact.load(os.path.join(exmp.cm_grouped_by_period_path, \"weighted_unifrac_distance_matrix.qza\"))\n",
    "# add bray-curtis and jaccard for consistency\n",
    "faith_pd = qiime2.Artifact.load(os.path.join(exmp.cm_grouped_by_period_path, \"faith_pd_vector.qza\"))\n",
    "shannon = qiime2.Artifact.load(os.path.join(exmp.cm_grouped_by_period_path, \"shannon_vector.qza\"))\n",
    "evenness = qiime2.Artifact.load(os.path.join(exmp.cm_grouped_by_period_path, \"evenness_vector.qza\"))\n",
    "sample_metadata = exmp.load_sample_metadata_grouped_by_period()\n",
    "\n",
    "base_output_dir = os.path.join(exmp.cm_grouped_by_period_path, 'ols-and-anova')\n"
   ]
  },
  {
   "cell_type": "code",
   "execution_count": 3,
   "metadata": {},
   "outputs": [],
   "source": [
    "def ols_and_anova(dep_variable, project, period, base_output_dir, \n",
    "                  sample_metadata, uu_dm, wu_dm, faith_pd, shannon, evenness):\n",
    "    indep_variables = ['faith_pd', 'shannon', 'pielou_e', \n",
    "                       'Weighted_UniFrac_PC1', 'Weighted_UniFrac_PC2', 'Weighted_UniFrac_PC3', \n",
    "                       'Unweighted_UniFrac_PC1', 'Unweighted_UniFrac_PC2', 'Unweighted_UniFrac_PC3']\n",
    "    output_dir = os.path.join(base_output_dir, '%s-%s-period%d' % (project, dep_variable, period))\n",
    "    Path(output_dir).mkdir(parents=True, exist_ok=True)\n",
    "\n",
    "    where = \"[project]='%s' and [period]=%d\" % (project, period)\n",
    "\n",
    "    ids_to_keep = sample_metadata.get_ids(where=where)\n",
    "    sample_metadata = sample_metadata.filter_ids(ids_to_keep=ids_to_keep)\n",
    "\n",
    "    # make column names compatible for R-like forumulas used in anova\n",
    "    _df = sample_metadata.to_dataframe()\n",
    "    _df.index.name = 'sample-id'\n",
    "    _df = _df.rename(columns={'VO2max-change': 'VO2max_change',\n",
    "                              'RER-change': 'RER_change',\n",
    "                              'row-change': 'row_change',\n",
    "                              'bench-press-change': 'bench_press_change',\n",
    "                              '3RM-squat-change': 'three_rep_max_squat_change'})\n",
    "\n",
    "    # drop columns that don't have necessary data\n",
    "    if project == 'exmp1':\n",
    "        _df = _df[['VO2max_change', 'RER_change']].dropna().astype(np.float)\n",
    "    elif project == 'exmp2':\n",
    "        _df = _df[['row_change', 'bench_press_change', 'three_rep_max_squat_change']].dropna().astype(np.float)\n",
    "    else:\n",
    "        raise ValueError(\"Project must be exmp1 or exmp2, but %s was provided.\" % project)\n",
    "    sample_metadata = qiime2.Metadata(_df)\n",
    "\n",
    "    uu_dm = filter_distance_matrix(uu_dm, metadata=sample_metadata).filtered_distance_matrix\n",
    "    wu_dm = filter_distance_matrix(wu_dm, metadata=sample_metadata).filtered_distance_matrix\n",
    "\n",
    "    wu_pcoa = pcoa_method(wu_dm).pcoa\n",
    "    wu_pcoa = wu_pcoa.view(qiime2.Metadata).to_dataframe()[['Axis 1', 'Axis 2', 'Axis 3']]\n",
    "    wu_pcoa = wu_pcoa.rename(columns={'Axis 1': 'Weighted_UniFrac_PC1', \n",
    "                                      'Axis 2': 'Weighted_UniFrac_PC2', \n",
    "                                      'Axis 3': 'Weighted_UniFrac_PC3'})\n",
    "    sample_metadata = sample_metadata.merge(qiime2.Metadata(wu_pcoa))\n",
    "\n",
    "    uu_pcoa = pcoa_method(uu_dm).pcoa\n",
    "    uu_pcoa = uu_pcoa.view(qiime2.Metadata).to_dataframe()[['Axis 1', 'Axis 2', 'Axis 3']]\n",
    "    uu_pcoa = uu_pcoa.rename(columns={'Axis 1': 'Unweighted_UniFrac_PC1', \n",
    "                                      'Axis 2': 'Unweighted_UniFrac_PC2', \n",
    "                                      'Axis 3': 'Unweighted_UniFrac_PC3'})\n",
    "    sample_metadata = sample_metadata.merge(qiime2.Metadata(uu_pcoa))\n",
    "\n",
    "    sample_metadata = sample_metadata.merge(faith_pd.view(qiime2.Metadata).filter_ids(ids_to_keep=ids_to_keep))\n",
    "    sample_metadata = sample_metadata.merge(shannon.view(qiime2.Metadata).filter_ids(ids_to_keep=ids_to_keep))\n",
    "    sample_metadata = sample_metadata.merge(evenness.view(qiime2.Metadata).filter_ids(ids_to_keep=ids_to_keep))\n",
    "\n",
    "\n",
    "    df = sample_metadata.to_dataframe()\n",
    "    df = sm.add_constant(df)\n",
    "    \n",
    "    dep_variable_histogram = df[dep_variable].hist().figure\n",
    "    dep_variable_histogram.savefig(os.path.join(output_dir, 'histogram.pdf'))\n",
    "\n",
    "    mod = sm.OLS(df[dep_variable], df[['const'] + indep_variables])\n",
    "    res = mod.fit()\n",
    "    ols_result_summary = res.summary()\n",
    "    with open(os.path.join(output_dir, 'ols.txt'), 'w') as fh:\n",
    "        fh.write(ols_result_summary.as_text())\n",
    "    \n",
    "    formula = \"%s ~ %s\" % (dep_variable, ' + '.join(indep_variables))\n",
    "    anova_visualization = anova(metadata=qiime2.Metadata(df), formula=formula).visualization\n",
    "    anova_visualization.save(os.path.join(output_dir, 'anova.qzv'))\n",
    "    \n",
    "    return dep_variable_histogram, ols_result_summary, anova_visualization\n",
    "    \n",
    "    "
   ]
  },
  {
   "cell_type": "code",
   "execution_count": 4,
   "metadata": {},
   "outputs": [
    {
     "name": "stderr",
     "output_type": "stream",
     "text": [
      "/Users/gregcaporaso/miniconda3/envs/qiime2-2019.10/lib/python3.6/site-packages/skbio/stats/ordination/_principal_coordinate_analysis.py:152: RuntimeWarning: The result contains negative eigenvalues. Please compare their magnitude with the magnitude of some of the largest positive eigenvalues. If the negative ones are smaller, it's probably safe to ignore them, but if they are large in magnitude, the results won't be useful. See the Notes section for more details. The smallest eigenvalue is -0.05898439686274159 and the largest is 2.000503890208265.\n",
      "  RuntimeWarning\n",
      "/Users/gregcaporaso/miniconda3/envs/qiime2-2019.10/lib/python3.6/site-packages/numpy/core/fromnumeric.py:2495: FutureWarning: Method .ptp is deprecated and will be removed in a future version. Use numpy.ptp instead.\n",
      "  return ptp(axis=axis, out=out, **kwargs)\n",
      "/Users/gregcaporaso/miniconda3/envs/qiime2-2019.10/lib/python3.6/site-packages/skbio/stats/ordination/_principal_coordinate_analysis.py:152: RuntimeWarning: The result contains negative eigenvalues. Please compare their magnitude with the magnitude of some of the largest positive eigenvalues. If the negative ones are smaller, it's probably safe to ignore them, but if they are large in magnitude, the results won't be useful. See the Notes section for more details. The smallest eigenvalue is -0.05898439686274159 and the largest is 2.000503890208265.\n",
      "  RuntimeWarning\n",
      "/Users/gregcaporaso/miniconda3/envs/qiime2-2019.10/lib/python3.6/site-packages/numpy/core/fromnumeric.py:2495: FutureWarning: Method .ptp is deprecated and will be removed in a future version. Use numpy.ptp instead.\n",
      "  return ptp(axis=axis, out=out, **kwargs)\n",
      "/Users/gregcaporaso/miniconda3/envs/qiime2-2019.10/lib/python3.6/site-packages/skbio/stats/ordination/_principal_coordinate_analysis.py:152: RuntimeWarning: The result contains negative eigenvalues. Please compare their magnitude with the magnitude of some of the largest positive eigenvalues. If the negative ones are smaller, it's probably safe to ignore them, but if they are large in magnitude, the results won't be useful. See the Notes section for more details. The smallest eigenvalue is -0.03176306862419491 and the largest is 1.8574059048789846.\n",
      "  RuntimeWarning\n",
      "/Users/gregcaporaso/miniconda3/envs/qiime2-2019.10/lib/python3.6/site-packages/numpy/core/fromnumeric.py:2495: FutureWarning: Method .ptp is deprecated and will be removed in a future version. Use numpy.ptp instead.\n",
      "  return ptp(axis=axis, out=out, **kwargs)\n",
      "/Users/gregcaporaso/miniconda3/envs/qiime2-2019.10/lib/python3.6/site-packages/skbio/stats/ordination/_principal_coordinate_analysis.py:152: RuntimeWarning: The result contains negative eigenvalues. Please compare their magnitude with the magnitude of some of the largest positive eigenvalues. If the negative ones are smaller, it's probably safe to ignore them, but if they are large in magnitude, the results won't be useful. See the Notes section for more details. The smallest eigenvalue is -0.03176306862419491 and the largest is 1.8574059048789846.\n",
      "  RuntimeWarning\n",
      "/Users/gregcaporaso/miniconda3/envs/qiime2-2019.10/lib/python3.6/site-packages/numpy/core/fromnumeric.py:2495: FutureWarning: Method .ptp is deprecated and will be removed in a future version. Use numpy.ptp instead.\n",
      "  return ptp(axis=axis, out=out, **kwargs)\n",
      "/Users/gregcaporaso/miniconda3/envs/qiime2-2019.10/lib/python3.6/site-packages/skbio/stats/ordination/_principal_coordinate_analysis.py:152: RuntimeWarning: The result contains negative eigenvalues. Please compare their magnitude with the magnitude of some of the largest positive eigenvalues. If the negative ones are smaller, it's probably safe to ignore them, but if they are large in magnitude, the results won't be useful. See the Notes section for more details. The smallest eigenvalue is -0.03176306862419491 and the largest is 1.8574059048789846.\n",
      "  RuntimeWarning\n",
      "/Users/gregcaporaso/miniconda3/envs/qiime2-2019.10/lib/python3.6/site-packages/numpy/core/fromnumeric.py:2495: FutureWarning: Method .ptp is deprecated and will be removed in a future version. Use numpy.ptp instead.\n",
      "  return ptp(axis=axis, out=out, **kwargs)\n"
     ]
    }
   ],
   "source": [
    "r1 = ols_and_anova('VO2max_change', 'exmp1', 1, base_output_dir, \n",
    "                   sample_metadata, uu_dm, wu_dm, faith_pd, shannon, evenness)\n",
    "r2 = ols_and_anova('RER_change', 'exmp1', 1, base_output_dir, \n",
    "                   sample_metadata, uu_dm, wu_dm, faith_pd, shannon, evenness)\n",
    "r3 = ols_and_anova('row_change', 'exmp2', 1, base_output_dir, \n",
    "                   sample_metadata, uu_dm, wu_dm, faith_pd, shannon, evenness)\n",
    "r4 = ols_and_anova('bench_press_change', 'exmp2', 1, base_output_dir, \n",
    "                   sample_metadata, uu_dm, wu_dm, faith_pd, shannon, evenness)\n",
    "r5 = ols_and_anova('three_rep_max_squat_change', 'exmp2', 1, base_output_dir, \n",
    "                   sample_metadata, uu_dm, wu_dm, faith_pd, shannon, evenness)"
   ]
  },
  {
   "cell_type": "code",
   "execution_count": 5,
   "metadata": {},
   "outputs": [
    {
     "name": "stdout",
     "output_type": "stream",
     "text": [
      "                            OLS Regression Results                            \n",
      "==============================================================================\n",
      "Dep. Variable:          VO2max_change   R-squared:                       0.588\n",
      "Model:                            OLS   Adj. R-squared:                  0.383\n",
      "Method:                 Least Squares   F-statistic:                     2.859\n",
      "Date:                Wed, 05 Feb 2020   Prob (F-statistic):             0.0276\n",
      "Time:                        09:24:36   Log-Likelihood:                -56.713\n",
      "No. Observations:                  28   AIC:                             133.4\n",
      "Df Residuals:                      18   BIC:                             146.7\n",
      "Df Model:                           9                                         \n",
      "Covariance Type:            nonrobust                                         \n",
      "==========================================================================================\n",
      "                             coef    std err          t      P>|t|      [0.025      0.975]\n",
      "------------------------------------------------------------------------------------------\n",
      "const                    -13.2278      9.150     -1.446      0.165     -32.452       5.996\n",
      "faith_pd                  -0.7473      0.954     -0.783      0.444      -2.752       1.258\n",
      "shannon                    0.6414      6.585      0.097      0.923     -13.193      14.475\n",
      "pielou_e                  29.0094     40.423      0.718      0.482     -55.915     113.934\n",
      "Weighted_UniFrac_PC1      -2.8607      1.941     -1.474      0.158      -6.938       1.217\n",
      "Weighted_UniFrac_PC2     -21.5810      5.480     -3.938      0.001     -33.093     -10.069\n",
      "Weighted_UniFrac_PC3      -6.9183      4.041     -1.712      0.104     -15.408       1.571\n",
      "Unweighted_UniFrac_PC1    -7.3160     11.291     -0.648      0.525     -31.038      16.407\n",
      "Unweighted_UniFrac_PC2    -3.2027      4.531     -0.707      0.489     -12.722       6.316\n",
      "Unweighted_UniFrac_PC3     7.6225      5.907      1.290      0.213      -4.789      20.034\n",
      "==============================================================================\n",
      "Omnibus:                        1.251   Durbin-Watson:                   2.060\n",
      "Prob(Omnibus):                  0.535   Jarque-Bera (JB):                1.189\n",
      "Skew:                          -0.428   Prob(JB):                        0.552\n",
      "Kurtosis:                       2.464   Cond. No.                     1.13e+03\n",
      "==============================================================================\n",
      "\n",
      "Warnings:\n",
      "[1] Standard Errors assume that the covariance matrix of the errors is correctly specified.\n",
      "[2] The condition number is large, 1.13e+03. This might indicate that there are\n",
      "strong multicollinearity or other numerical problems.\n"
     ]
    }
   ],
   "source": [
    "print(r1[1])"
   ]
  },
  {
   "cell_type": "code",
   "execution_count": 6,
   "metadata": {},
   "outputs": [
    {
     "data": {
      "text/html": [
       "<div><img onload=\"(function(div, url){\n",
       "if (typeof require !== 'undefined') {\n",
       "    var baseURL = require.toUrl('').split('/').slice(0, -2).join('/');\n",
       "} else {\n",
       "    var baseURL = JSON.parse(\n",
       "        document.getElementById('jupyter-config-data').innerHTML\n",
       "    ).baseUrl.slice(0, -1);\n",
       "}\n",
       "url = baseURL + url;\n",
       "fetch(url).then(function(res) {\n",
       "    if (res.status === 404) {\n",
       "        div.innerHTML = 'Install QIIME 2 Jupyter extension with:<br />' +\n",
       "                        '<code>jupyter serverextension enable --py qiime2' +\n",
       "                        ' --sys-prefix</code><br />then restart your server.' +\n",
       "                        '<br /><br />(Interactive output not available on ' +\n",
       "                        'static notebook viewer services like nbviewer.)';\n",
       "    } else if (res.status === 409) {\n",
       "        div.innerHTML = 'Visualization no longer in scope. Re-run this cell' +\n",
       "                        ' to see the visualization.';\n",
       "    } else if (res.ok) {\n",
       "        url = res.url;\n",
       "        div.innerHTML = '<iframe src=\\'' + url + '\\' style=\\'' +\n",
       "                        'width: 100%; height: 700px; border: 0;\\'>' +\n",
       "                        '</iframe><hr />Open in a: <a href=\\'' + url + '\\'' +\n",
       "                        ' target=\\'_blank\\'>new window</a>'\n",
       "    } else {\n",
       "        div.innerHTML = 'Something has gone wrong. Check notebook server for' +\n",
       "                        ' errors.';\n",
       "    }\n",
       "});\n",
       "})(this.parentElement, '/qiime2/redirect?location=/var/folders/b6/g3p2lswj2153q21x12mjlfwh0000gn/T/qiime2-archive-_v0ey12h')\" src=\"data:image/gif;base64,R0lGODlhAQABAIAAAP///wAAACH5BAEAAAAALAAAAAABAAEAAAICRAEAOw==\" /></div>"
      ],
      "text/plain": [
       "<visualization: Visualization uuid: fd831c3c-803a-4c0d-8587-3d41f1767487>"
      ]
     },
     "execution_count": 6,
     "metadata": {},
     "output_type": "execute_result"
    }
   ],
   "source": [
    "print(r1[2])"
   ]
  },
  {
   "cell_type": "code",
   "execution_count": 9,
   "metadata": {},
   "outputs": [
    {
     "name": "stdout",
     "output_type": "stream",
     "text": [
      "                            OLS Regression Results                            \n",
      "==============================================================================\n",
      "Dep. Variable:     bench_press_change   R-squared:                       0.403\n",
      "Model:                            OLS   Adj. R-squared:                  0.045\n",
      "Method:                 Least Squares   F-statistic:                     1.127\n",
      "Date:                Wed, 05 Feb 2020   Prob (F-statistic):              0.403\n",
      "Time:                        09:25:15   Log-Likelihood:                -64.374\n",
      "No. Observations:                  25   AIC:                             148.7\n",
      "Df Residuals:                      15   BIC:                             160.9\n",
      "Df Model:                           9                                         \n",
      "Covariance Type:            nonrobust                                         \n",
      "==========================================================================================\n",
      "                             coef    std err          t      P>|t|      [0.025      0.975]\n",
      "------------------------------------------------------------------------------------------\n",
      "const                     38.9950     19.332      2.017      0.062      -2.211      80.201\n",
      "faith_pd                   0.2434      1.201      0.203      0.842      -2.316       2.803\n",
      "shannon                    5.7700     13.254      0.435      0.670     -22.481      34.021\n",
      "pielou_e                 -93.2369    104.702     -0.891      0.387    -316.403     129.930\n",
      "Weighted_UniFrac_PC1     -20.0406      8.065     -2.485      0.025     -37.230      -2.851\n",
      "Weighted_UniFrac_PC2     -13.2592      8.120     -1.633      0.123     -30.566       4.048\n",
      "Weighted_UniFrac_PC3      -7.3940     10.101     -0.732      0.475     -28.923      14.135\n",
      "Unweighted_UniFrac_PC1    -4.4261     26.756     -0.165      0.871     -61.454      52.602\n",
      "Unweighted_UniFrac_PC2    -4.4035     14.566     -0.302      0.767     -35.450      26.643\n",
      "Unweighted_UniFrac_PC3    15.9843     11.080      1.443      0.170      -7.632      39.601\n",
      "==============================================================================\n",
      "Omnibus:                        0.079   Durbin-Watson:                   2.138\n",
      "Prob(Omnibus):                  0.961   Jarque-Bera (JB):                0.301\n",
      "Skew:                          -0.029   Prob(JB):                        0.860\n",
      "Kurtosis:                       2.465   Cond. No.                     2.40e+03\n",
      "==============================================================================\n",
      "\n",
      "Warnings:\n",
      "[1] Standard Errors assume that the covariance matrix of the errors is correctly specified.\n",
      "[2] The condition number is large, 2.4e+03. This might indicate that there are\n",
      "strong multicollinearity or other numerical problems.\n"
     ]
    }
   ],
   "source": [
    "print(r4[1])"
   ]
  },
  {
   "cell_type": "code",
   "execution_count": 10,
   "metadata": {},
   "outputs": [
    {
     "data": {
      "text/html": [
       "<div><img onload=\"(function(div, url){\n",
       "if (typeof require !== 'undefined') {\n",
       "    var baseURL = require.toUrl('').split('/').slice(0, -2).join('/');\n",
       "} else {\n",
       "    var baseURL = JSON.parse(\n",
       "        document.getElementById('jupyter-config-data').innerHTML\n",
       "    ).baseUrl.slice(0, -1);\n",
       "}\n",
       "url = baseURL + url;\n",
       "fetch(url).then(function(res) {\n",
       "    if (res.status === 404) {\n",
       "        div.innerHTML = 'Install QIIME 2 Jupyter extension with:<br />' +\n",
       "                        '<code>jupyter serverextension enable --py qiime2' +\n",
       "                        ' --sys-prefix</code><br />then restart your server.' +\n",
       "                        '<br /><br />(Interactive output not available on ' +\n",
       "                        'static notebook viewer services like nbviewer.)';\n",
       "    } else if (res.status === 409) {\n",
       "        div.innerHTML = 'Visualization no longer in scope. Re-run this cell' +\n",
       "                        ' to see the visualization.';\n",
       "    } else if (res.ok) {\n",
       "        url = res.url;\n",
       "        div.innerHTML = '<iframe src=\\'' + url + '\\' style=\\'' +\n",
       "                        'width: 100%; height: 700px; border: 0;\\'>' +\n",
       "                        '</iframe><hr />Open in a: <a href=\\'' + url + '\\'' +\n",
       "                        ' target=\\'_blank\\'>new window</a>'\n",
       "    } else {\n",
       "        div.innerHTML = 'Something has gone wrong. Check notebook server for' +\n",
       "                        ' errors.';\n",
       "    }\n",
       "});\n",
       "})(this.parentElement, '/qiime2/redirect?location=/var/folders/b6/g3p2lswj2153q21x12mjlfwh0000gn/T/qiime2-archive-32k5mqr6')\" src=\"data:image/gif;base64,R0lGODlhAQABAIAAAP///wAAACH5BAEAAAAALAAAAAABAAEAAAICRAEAOw==\" /></div>"
      ],
      "text/plain": [
       "<visualization: Visualization uuid: 74788f76-6ea8-42e6-970f-e4fb05d30d82>"
      ]
     },
     "execution_count": 10,
     "metadata": {},
     "output_type": "execute_result"
    }
   ],
   "source": [
    "r4[2]"
   ]
  },
  {
   "cell_type": "code",
   "execution_count": null,
   "metadata": {},
   "outputs": [],
   "source": []
  }
 ],
 "metadata": {
  "kernelspec": {
   "display_name": "Python 3",
   "language": "python",
   "name": "python3"
  },
  "language_info": {
   "codemirror_mode": {
    "name": "ipython",
    "version": 3
   },
   "file_extension": ".py",
   "mimetype": "text/x-python",
   "name": "python",
   "nbconvert_exporter": "python",
   "pygments_lexer": "ipython3",
   "version": "3.6.7"
  }
 },
 "nbformat": 4,
 "nbformat_minor": 2
}
